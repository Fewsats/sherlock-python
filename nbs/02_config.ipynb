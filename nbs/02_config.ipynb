{
 "cells": [
  {
   "cell_type": "markdown",
   "metadata": {},
   "source": [
    "# config\n",
    "\n",
    "> Config for Sherlock."
   ]
  },
  {
   "cell_type": "code",
   "execution_count": null,
   "metadata": {},
   "outputs": [],
   "source": [
    "#| default_exp config"
   ]
  },
  {
   "cell_type": "code",
   "execution_count": null,
   "metadata": {},
   "outputs": [],
   "source": [
    "#| hide\n",
    "from nbdev.showdoc import *\n",
    "import shutil"
   ]
  },
  {
   "cell_type": "code",
   "execution_count": null,
   "metadata": {},
   "outputs": [],
   "source": [
    "#| export\n",
    "from fastcore.all import *\n",
    "from fastcore.xdg import *\n",
    "from typing import get_type_hints\n",
    "from dataclasses import dataclass\n",
    "import json"
   ]
  },
  {
   "cell_type": "code",
   "execution_count": null,
   "metadata": {},
   "outputs": [
    {
     "data": {
      "text/plain": [
       "Path('/Users/pengren/.config/sherlock/sherlock.conf')"
      ]
     },
     "execution_count": null,
     "metadata": {},
     "output_type": "execute_result"
    }
   ],
   "source": [
    "#| export\n",
    "\n",
    "@dataclass\n",
    "class SherlockConfig:\n",
    "    priv: str = ''  # private key (hex)\n",
    "\n",
    "def _cfg_path(): return xdg_config_home() / 'sherlock' / 'sherlock.conf'\n",
    "_cfg_path()"
   ]
  },
  {
   "cell_type": "code",
   "execution_count": null,
   "metadata": {},
   "outputs": [],
   "source": [
    "#| export\n",
    "def get_cfg(path = None):\n",
    "    \"Get config from XDG config dir, creating if needed\"\n",
    "    if path is None: path = _cfg_path()\n",
    "    path.parent.mkdir(parents=True, exist_ok=True)\n",
    "    _types = get_type_hints(SherlockConfig)\n",
    "    return Config(path.parent, path.name, create=asdict(SherlockConfig()),\n",
    "                 types=_types, inline_comment_prefixes=('#'))\n",
    "\n",
    "def save_cfg(cfg: dict, path = None):\n",
    "    \"Save config to file\"\n",
    "    if path is None: path = _cfg_path()\n",
    "    path.parent.mkdir(parents=True, exist_ok=True)\n",
    "    save_config_file(path, cfg)"
   ]
  },
  {
   "cell_type": "code",
   "execution_count": null,
   "metadata": {},
   "outputs": [
    {
     "data": {
      "text/plain": [
       "Path('tmp_test/sherlock.conf')"
      ]
     },
     "execution_count": null,
     "metadata": {},
     "output_type": "execute_result"
    }
   ],
   "source": [
    "test_dir = 'tmp_test'\n",
    "cfg_path = Path(test_dir)/'sherlock.conf'\n",
    "cfg_path"
   ]
  },
  {
   "cell_type": "code",
   "execution_count": null,
   "metadata": {},
   "outputs": [
    {
     "data": {
      "text/plain": [
       "{'priv': ''}"
      ]
     },
     "execution_count": null,
     "metadata": {},
     "output_type": "execute_result"
    }
   ],
   "source": [
    "get_cfg(path=cfg_path)"
   ]
  },
  {
   "cell_type": "code",
   "execution_count": null,
   "metadata": {},
   "outputs": [
    {
     "data": {
      "text/plain": [
       "{'priv': '912j3i9x...'}"
      ]
     },
     "execution_count": null,
     "metadata": {},
     "output_type": "execute_result"
    }
   ],
   "source": [
    "save_cfg({'priv': '912j3i9x...'}, cfg_path)\n",
    "get_cfg(path=cfg_path)"
   ]
  },
  {
   "cell_type": "code",
   "execution_count": null,
   "metadata": {},
   "outputs": [],
   "source": [
    "#| export\n",
    "\n",
    "def _contact_info_path(): return xdg_config_home() / 'sherlock' / 'contact_info.json'\n",
    "\n",
    "def get_contact_info(path = None):\n",
    "    if path is None: path = _contact_info_path()\n",
    "    return json.load(open(path)) if path.exists() else {}\n",
    "\n",
    "def save_contact_info(contact_info: dict, path = None):\n",
    "    if path is None: path = _contact_info_path()\n",
    "    path.parent.mkdir(parents=True, exist_ok=True)\n",
    "    json.dump(contact_info, open(path, 'w'))\n"
   ]
  },
  {
   "cell_type": "code",
   "execution_count": null,
   "metadata": {},
   "outputs": [
    {
     "data": {
      "text/plain": [
       "{}"
      ]
     },
     "execution_count": null,
     "metadata": {},
     "output_type": "execute_result"
    }
   ],
   "source": [
    "p = Path(test_dir)/'contact_info.json'\n",
    "get_contact_info(path=p)"
   ]
  },
  {
   "cell_type": "code",
   "execution_count": null,
   "metadata": {},
   "outputs": [
    {
     "data": {
      "text/plain": [
       "{'first_name': 'Test', 'email': 't@t.com'}"
      ]
     },
     "execution_count": null,
     "metadata": {},
     "output_type": "execute_result"
    }
   ],
   "source": [
    "save_contact_info({'first_name': 'Test', 'email': 't@t.com'}, path=p)\n",
    "get_contact_info(path=p)\n"
   ]
  },
  {
   "cell_type": "code",
   "execution_count": null,
   "metadata": {},
   "outputs": [],
   "source": [
    "shutil.rmtree(test_dir)"
   ]
  },
  {
   "cell_type": "code",
   "execution_count": null,
   "metadata": {},
   "outputs": [],
   "source": [
    "#| hide\n",
    "import nbdev; nbdev.nbdev_export()"
   ]
  }
 ],
 "metadata": {
  "kernelspec": {
   "display_name": "python3",
   "language": "python",
   "name": "python3"
  }
 },
 "nbformat": 4,
 "nbformat_minor": 2
}
