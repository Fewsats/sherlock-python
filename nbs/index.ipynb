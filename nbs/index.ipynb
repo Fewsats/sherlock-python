{
 "cells": [
  {
   "cell_type": "code",
   "execution_count": null,
   "metadata": {},
   "outputs": [],
   "source": [
    "#| hide\n",
    "from sherlock.core import *"
   ]
  },
  {
   "cell_type": "markdown",
   "metadata": {},
   "source": [
    "# Sherlock Domains Python SDK\n",
    "\n",
    "> AI agent & SDK to buy and managed domains from [Sherlock Domains](https://www.sherlockdomains.com/)"
   ]
  },
  {
   "cell_type": "markdown",
   "metadata": {},
   "source": [
    "### Installation"
   ]
  },
  {
   "cell_type": "markdown",
   "metadata": {},
   "source": [
    "Install latest from the GitHub [repository][repo]:\n",
    "\n",
    "```sh\n",
    "$ pip install git+https://github.com/Fewsats/sherlock-python.git\n",
    "```\n",
    "\n",
    "```sh\n",
    "$ pip install sherlock-domains\n",
    "```\n",
    "\n",
    "\n",
    "[repo]: https://github.com/Fewsats/sherlock-python\n",
    "[pypi]: https://pypi.org/project/sherlock-domains/\n"
   ]
  },
  {
   "cell_type": "markdown",
   "metadata": {},
   "source": [
    "## How to use"
   ]
  },
  {
   "cell_type": "markdown",
   "metadata": {},
   "source": [
    "Create a Sherlock instance with a private key for the agent to use. If no key is provided, a new one will be generated and saved to the default config file."
   ]
  },
  {
   "cell_type": "code",
   "execution_count": null,
   "metadata": {},
   "outputs": [
    {
     "data": {
      "text/plain": [
       "Sherlock(pubkey=90ba884688884277e49080712f386eebc88806efa8345ca937f75fe80950156d)"
      ]
     },
     "execution_count": null,
     "metadata": {},
     "output_type": "execute_result"
    }
   ],
   "source": [
    "s = Sherlock()\n",
    "s"
   ]
  },
  {
   "cell_type": "markdown",
   "metadata": {},
   "source": [
    "You can search for a domain and request to purchase it. Purchasing a domain requires contact information as mandated by ICANN."
   ]
  },
  {
   "cell_type": "code",
   "execution_count": null,
   "metadata": {},
   "outputs": [
    {
     "data": {
      "text/plain": [
       "{'id': '812125a5-1358-4eaf-8589-c50248e3d4af',\n",
       " 'created_at': '2025-01-14T03:36:38.352Z',\n",
       " 'available': [{'name': 'trakwiska.com',\n",
       "   'tld': 'com',\n",
       "   'tags': [],\n",
       "   'price': 1105,\n",
       "   'currency': 'USD',\n",
       "   'available': True}],\n",
       " 'unavailable': []}"
      ]
     },
     "execution_count": null,
     "metadata": {},
     "output_type": "execute_result"
    }
   ],
   "source": [
    "sr = s.search(\"trakwiska.com\")\n",
    "# Don't print the whole lists\n",
    "sr['available'] = sr['available'][:1]\n",
    "sr['unavailable'] = sr['unavailable'][:1]\n",
    "sr"
   ]
  },
  {
   "cell_type": "markdown",
   "metadata": {},
   "source": [
    "Contact information is needed for registering a new domain with the ICANN."
   ]
  },
  {
   "cell_type": "code",
   "execution_count": null,
   "metadata": {},
   "outputs": [
    {
     "data": {
      "text/plain": [
       "{'message': 'Contact information updated successfully'}"
      ]
     },
     "execution_count": null,
     "metadata": {},
     "output_type": "execute_result"
    }
   ],
   "source": [
    "c = Contact(**{\n",
    "    \"first_name\": \"Test\",\n",
    "    \"last_name\": \"User\",\n",
    "    \"email\": \"test@example.com\",\n",
    "    \"address\": \"123 Test St\",\n",
    "    \"city\": \"Test City\",\n",
    "    \"state\": \"CA\",\n",
    "    \"country\": \"US\",\n",
    "    \"postal_code\": \"12345\",\n",
    "})\n",
    "\n",
    "s.set_contact_information(\n",
    "    cfn=c.first_name,\n",
    "    cln=c.last_name,\n",
    "    cem=c.email,\n",
    "    cadd=c.address,\n",
    "    cct=c.city,\n",
    "    cst=c.state,\n",
    "    cpc=c.postal_code,\n",
    "    ccn=c.country\n",
    ")\n"
   ]
  },
  {
   "cell_type": "markdown",
   "metadata": {},
   "source": [
    "Finalizing a purchase involves a payment. Sherlock Domains currently supports two payment methods: Credit Card (`credit_card`) and the Lightning Netowrk (`lightning`).\n",
    "By default the credit card method is used. In order to complete the payment: \n",
    "-  `credit_card` returns a checkout URL.\n",
    "-  `lightning` returns a lightning invoice."
   ]
  },
  {
   "cell_type": "code",
   "execution_count": null,
   "metadata": {},
   "outputs": [
    {
     "data": {
      "text/plain": [
       "{'payment_method': {'checkout_url': 'https://checkout.stripe.com/c/pay/cs_live_a1uu7dX1qtgk5YH3BdJewKlRPCujUfcW0KdBWr8WLwXCuctBQkWMdE2UQx#fidkdWxOYHwnPyd1blppbHNgWjA0S3VzXDdBbTFNVlJzfDVRQVQ2dVdBTnJTSH1QMGs2dHRsanJMbkY0PTxKbUtRaWowT2NwMGM8RlVBbGRqSWo3UFYwcVdqR3F9N2BtM2ZTPXc1Z3dQXGc2NTVPYVVSQkM8bycpJ2N3amhWYHdzYHcnP3F3cGApJ2lkfGpwcVF8dWAnPyd2bGtiaWBabHFgaCcpJ2BrZGdpYFVpZGZgbWppYWB3dic%2FcXdwYHgl',\n",
       "  'lightning_invoice': None},\n",
       " 'expires_at': '2025-01-14T04:06:39.531Z'}"
      ]
     },
     "execution_count": null,
     "metadata": {},
     "output_type": "execute_result"
    }
   ],
   "source": [
    "s.request_payment_details(sr['id'], \"trakwiska.com\")"
   ]
  },
  {
   "cell_type": "markdown",
   "metadata": {},
   "source": [
    "You can now use the checkout URL to complete the purchase and the domain will be registered to your agent.\n",
    "\n",
    "You can view the domains you own with:"
   ]
  },
  {
   "cell_type": "code",
   "execution_count": null,
   "metadata": {},
   "outputs": [
    {
     "data": {
      "text/plain": [
       "[{'id': 'd9b2cc30-c15d-44b9-9d39-5d33da504484',\n",
       "  'domain_name': 'h402.org',\n",
       "  'created_at': '2024-12-28T18:58:49.899Z',\n",
       "  'expires_at': '2024-12-31T18:58:42Z',\n",
       "  'auto_renew': False,\n",
       "  'locked': True,\n",
       "  'private': True,\n",
       "  'nameservers': [],\n",
       "  'status': 'active'}]"
      ]
     },
     "execution_count": null,
     "metadata": {},
     "output_type": "execute_result"
    }
   ],
   "source": [
    "s.domains()"
   ]
  },
  {
   "cell_type": "markdown",
   "metadata": {},
   "source": [
    "Below is a list of all the tools that the client offers to manage the domains and purchases."
   ]
  },
  {
   "cell_type": "code",
   "execution_count": null,
   "metadata": {},
   "outputs": [
    {
     "data": {
      "text/plain": [
       "(#10) ['_me','_set_contact_information','_get_contact_information','_search','_request_payment_details','_domains','_dns_records','_create_dns_record','_update_dns_record','_delete_dns_record']"
      ]
     },
     "execution_count": null,
     "metadata": {},
     "output_type": "execute_result"
    }
   ],
   "source": [
    "s.as_tools().map(lambda t: t.__name__)"
   ]
  },
  {
   "cell_type": "markdown",
   "metadata": {},
   "source": [
    "## AI agents"
   ]
  },
  {
   "cell_type": "markdown",
   "metadata": {},
   "source": [
    "We will show how to enable your AI assistant to handle payments using [Claudette](https://claudette.answer.ai), Answer.ai convenient wrapper for Claude. You'll need to export your `ANTHROPIC_API_KEY`."
   ]
  },
  {
   "cell_type": "code",
   "execution_count": null,
   "metadata": {},
   "outputs": [],
   "source": [
    "from claudette import Chat, models"
   ]
  },
  {
   "cell_type": "code",
   "execution_count": null,
   "metadata": {},
   "outputs": [
    {
     "data": {
      "text/plain": [
       "'claude-3-5-sonnet-20240620'"
      ]
     },
     "execution_count": null,
     "metadata": {},
     "output_type": "execute_result"
    }
   ],
   "source": [
    "model = models[1]; model"
   ]
  },
  {
   "cell_type": "markdown",
   "metadata": {},
   "source": [
    "Create a Sherlock instance with a public & private key for the agent to use."
   ]
  },
  {
   "cell_type": "markdown",
   "metadata": {},
   "source": [
    "Sherlock supports returning all the tools with `s.as_tools()`."
   ]
  },
  {
   "cell_type": "code",
   "execution_count": null,
   "metadata": {},
   "outputs": [
    {
     "name": "stdout",
     "output_type": "stream",
     "text": [
      "Message(id='msg_014pq4tF62joNFyY7HK6a197', content=[TextBlock(text=\"Certainly! I'll search for the domain 'the-favourite-game.com' and if it's available, I'll proceed with the purchase request using the credit card payment method. Let's start with the search.\", type='text'), ToolUseBlock(id='toolu_01P6nMob3NuohiyNYDvYjmde', input={'q': 'the-favourite-game.com'}, name='_search', type='tool_use')], model='claude-3-5-sonnet-20240620', role='assistant', stop_reason='tool_use', stop_sequence=None, type='message', usage=In: 2409; Out: 104; Cache create: 0; Cache read: 0; Total: 2513)\n",
      "Message(id='msg_01NcViW2skMwxQFMFMKr3g5n', content=[TextBlock(text=\"Great news! The domain 'the-favourite-game.com' is available. The search results show that it can be purchased for 1105 cents USD, which is equivalent to $11.05.\\n\\nNow that we know the domain is available, let's proceed with the purchase request using the credit card payment method. However, before we can do that, we need to make sure that the contact information is set up. Let's check the current contact information:\", type='text'), ToolUseBlock(id='toolu_01MJeNVC2FJa82EbyiLS5ase', input={}, name='_get_contact_information', type='tool_use')], model='claude-3-5-sonnet-20240620', role='assistant', stop_reason='tool_use', stop_sequence=None, type='message', usage=In: 2640; Out: 137; Cache create: 0; Cache read: 0; Total: 2777)\n",
      "Message(id='msg_01L7iWs1P4xgcBDXWU2MDCPj', content=[TextBlock(text='It looks like the contact information is already set up. Now we can proceed with the purchase request:', type='text'), ToolUseBlock(id='toolu_01V8SvLHszxREU7AEXtLYHJW', input={'sid': 'a63c4bd6-d3c0-4bcd-a381-2ace4ab5dbfe', 'domain': 'the-favourite-game.com', 'payment_method': 'credit_card'}, name='_request_payment_details', type='tool_use')], model='claude-3-5-sonnet-20240620', role='assistant', stop_reason='tool_use', stop_sequence=None, type='message', usage=In: 2864; Out: 144; Cache create: 0; Cache read: 0; Total: 3008)\n",
      "Message(id='msg_01TodMupqc2jGtgHzKnz4d1J', content=[TextBlock(text=\"Great! The purchase request has been processed successfully. Here's a summary of what happened:\\n\\n1. We searched for the domain 'the-favourite-game.com' and found it was available for $11.05.\\n2. We confirmed that the contact information was already set up.\\n3. We submitted a purchase request for the domain using the credit card payment method.\\n\\nThe system has provided a checkout URL for you to complete the payment. To finalize the purchase, you'll need to visit this URL:\\n\\nhttps://checkout.stripe.com/c/pay/cs_live_a1o69y0arBV5CHaLPQ4lusmVfLqGJDjAkyhNeTVT89Ri3LBbjQQjE3iuT8#fidkdWxOYHwnPyd1blppbHNgWjA0S3VzXDdBbTFNVlJzfDVRQVQ2dVdBTnJTSH1QMGs2dHRsanJMbkY0PTxKbUtRaWowT2NwMGM8RlVBbGRqSWo3UFYwcVdqR3F9N2BtM2ZTPXc1Z3dQXGc2NTVPYVVSQkM8bycpJ2N3amhWYHdzYHcnP3F3cGApJ2lkfGpwcVF8dWAnPyd2bGtiaWBabHFgaCcpJ2BrZGdpYFVpZGZgbWppYWB3dic%2FcXdwYHgl\\n\\nPlease note that this checkout URL will expire on 2025-01-14T04:06:49.681Z. Make sure to complete the payment before this time to secure your domain.\\n\\nIs there anything else you'd like me to help you with regarding this domain purchase or any other domain-related tasks?\", type='text')], model='claude-3-5-sonnet-20240620', role='assistant', stop_reason='end_turn', stop_sequence=None, type='message', usage=In: 3361; Out: 477; Cache create: 0; Cache read: 0; Total: 3838)\n"
     ]
    },
    {
     "data": {
      "text/markdown": [
       "Great! The purchase request has been processed successfully. Here's a summary of what happened:\n",
       "\n",
       "1. We searched for the domain 'the-favourite-game.com' and found it was available for &#36;11.05.\n",
       "2. We confirmed that the contact information was already set up.\n",
       "3. We submitted a purchase request for the domain using the credit card payment method.\n",
       "\n",
       "The system has provided a checkout URL for you to complete the payment. To finalize the purchase, you'll need to visit this URL:\n",
       "\n",
       "https://checkout.stripe.com/c/pay/cs_live_a1o69y0arBV5CHaLPQ4lusmVfLqGJDjAkyhNeTVT89Ri3LBbjQQjE3iuT8#fidkdWxOYHwnPyd1blppbHNgWjA0S3VzXDdBbTFNVlJzfDVRQVQ2dVdBTnJTSH1QMGs2dHRsanJMbkY0PTxKbUtRaWowT2NwMGM8RlVBbGRqSWo3UFYwcVdqR3F9N2BtM2ZTPXc1Z3dQXGc2NTVPYVVSQkM8bycpJ2N3amhWYHdzYHcnP3F3cGApJ2lkfGpwcVF8dWAnPyd2bGtiaWBabHFgaCcpJ2BrZGdpYFVpZGZgbWppYWB3dic%2FcXdwYHgl\n",
       "\n",
       "Please note that this checkout URL will expire on 2025-01-14T04:06:49.681Z. Make sure to complete the payment before this time to secure your domain.\n",
       "\n",
       "Is there anything else you'd like me to help you with regarding this domain purchase or any other domain-related tasks?\n",
       "\n",
       "<details>\n",
       "\n",
       "- id: `msg_01TodMupqc2jGtgHzKnz4d1J`\n",
       "- content: `[{'text': \"Great! The purchase request has been processed successfully. Here's a summary of what happened:\\n\\n1. We searched for the domain 'the-favourite-game.com' and found it was available for $11.05.\\n2. We confirmed that the contact information was already set up.\\n3. We submitted a purchase request for the domain using the credit card payment method.\\n\\nThe system has provided a checkout URL for you to complete the payment. To finalize the purchase, you'll need to visit this URL:\\n\\nhttps://checkout.stripe.com/c/pay/cs_live_a1o69y0arBV5CHaLPQ4lusmVfLqGJDjAkyhNeTVT89Ri3LBbjQQjE3iuT8#fidkdWxOYHwnPyd1blppbHNgWjA0S3VzXDdBbTFNVlJzfDVRQVQ2dVdBTnJTSH1QMGs2dHRsanJMbkY0PTxKbUtRaWowT2NwMGM8RlVBbGRqSWo3UFYwcVdqR3F9N2BtM2ZTPXc1Z3dQXGc2NTVPYVVSQkM8bycpJ2N3amhWYHdzYHcnP3F3cGApJ2lkfGpwcVF8dWAnPyd2bGtiaWBabHFgaCcpJ2BrZGdpYFVpZGZgbWppYWB3dic%2FcXdwYHgl\\n\\nPlease note that this checkout URL will expire on 2025-01-14T04:06:49.681Z. Make sure to complete the payment before this time to secure your domain.\\n\\nIs there anything else you'd like me to help you with regarding this domain purchase or any other domain-related tasks?\", 'type': 'text'}]`\n",
       "- model: `claude-3-5-sonnet-20240620`\n",
       "- role: `assistant`\n",
       "- stop_reason: `end_turn`\n",
       "- stop_sequence: `None`\n",
       "- type: `message`\n",
       "- usage: `{'cache_creation_input_tokens': 0, 'cache_read_input_tokens': 0, 'input_tokens': 3361, 'output_tokens': 477}`\n",
       "\n",
       "</details>"
      ],
      "text/plain": [
       "Message(id='msg_01TodMupqc2jGtgHzKnz4d1J', content=[TextBlock(text=\"Great! The purchase request has been processed successfully. Here's a summary of what happened:\\n\\n1. We searched for the domain 'the-favourite-game.com' and found it was available for $11.05.\\n2. We confirmed that the contact information was already set up.\\n3. We submitted a purchase request for the domain using the credit card payment method.\\n\\nThe system has provided a checkout URL for you to complete the payment. To finalize the purchase, you'll need to visit this URL:\\n\\nhttps://checkout.stripe.com/c/pay/cs_live_a1o69y0arBV5CHaLPQ4lusmVfLqGJDjAkyhNeTVT89Ri3LBbjQQjE3iuT8#fidkdWxOYHwnPyd1blppbHNgWjA0S3VzXDdBbTFNVlJzfDVRQVQ2dVdBTnJTSH1QMGs2dHRsanJMbkY0PTxKbUtRaWowT2NwMGM8RlVBbGRqSWo3UFYwcVdqR3F9N2BtM2ZTPXc1Z3dQXGc2NTVPYVVSQkM8bycpJ2N3amhWYHdzYHcnP3F3cGApJ2lkfGpwcVF8dWAnPyd2bGtiaWBabHFgaCcpJ2BrZGdpYFVpZGZgbWppYWB3dic%2FcXdwYHgl\\n\\nPlease note that this checkout URL will expire on 2025-01-14T04:06:49.681Z. Make sure to complete the payment before this time to secure your domain.\\n\\nIs there anything else you'd like me to help you with regarding this domain purchase or any other domain-related tasks?\", type='text')], model='claude-3-5-sonnet-20240620', role='assistant', stop_reason='end_turn', stop_sequence=None, type='message', usage=In: 3361; Out: 477; Cache create: 0; Cache read: 0; Total: 3838)"
      ]
     },
     "execution_count": null,
     "metadata": {},
     "output_type": "execute_result"
    }
   ],
   "source": [
    "sp = 'You are a helpful assistant that has access to a domain purchase API.'\n",
    "chat = Chat(model, sp=sp, tools=s.as_tools())\n",
    "\n",
    "pr = f\"Search if domain 'the-favourite-game.com' is available? If it is request a purchase and process the payment using credit card method.\"\n",
    "r = chat.toolloop(pr, trace_func=print)\n",
    "r"
   ]
  }
 ],
 "metadata": {
  "kernelspec": {
   "display_name": "venv",
   "language": "python",
   "name": "python3"
  },
  "language_info": {
   "name": "python",
   "version": "3.12.3"
  }
 },
 "nbformat": 4,
 "nbformat_minor": 4
}
