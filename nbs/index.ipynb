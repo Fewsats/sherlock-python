{
 "cells": [
  {
   "cell_type": "code",
   "execution_count": 1,
   "metadata": {},
   "outputs": [],
   "source": [
    "#| hide\n",
    "from sherlock.core import *\n",
    "from fastcore.utils import first"
   ]
  },
  {
   "cell_type": "markdown",
   "metadata": {},
   "source": [
    "# Sherlock Domains Python SDK\n",
    "\n",
    "> AI agent & SDK to buy and managed domains from [Sherlock Domains](https://www.sherlockdomains.com/)"
   ]
  },
  {
   "cell_type": "markdown",
   "metadata": {},
   "source": [
    "### Installation"
   ]
  },
  {
   "cell_type": "markdown",
   "metadata": {},
   "source": [
    "Install latest from the GitHub [repository][repo]:\n",
    "\n",
    "```sh\n",
    "$ pip install git+https://github.com/Fewsats/sherlock-python.git\n",
    "```\n",
    "\n",
    "```sh\n",
    "$ pip install sherlock-domains\n",
    "```\n",
    "\n",
    "\n",
    "[repo]: https://github.com/Fewsats/sherlock-python\n",
    "[pypi]: https://pypi.org/project/sherlock-domains/\n"
   ]
  },
  {
   "cell_type": "markdown",
   "metadata": {},
   "source": [
    "## How to use"
   ]
  },
  {
   "cell_type": "markdown",
   "metadata": {},
   "source": [
    "Create a Sherlock instance with a private key for the agent to use. If no key is provided, a new one will be generated and saved to the default config file."
   ]
  },
  {
   "cell_type": "code",
   "execution_count": 2,
   "metadata": {},
   "outputs": [
    {
     "data": {
      "text/plain": [
       "Sherlock(pubkey=90ba884688884277e49080712f386eebc88806efa8345ca937f75fe80950156d)"
      ]
     },
     "execution_count": 2,
     "metadata": {},
     "output_type": "execute_result"
    }
   ],
   "source": [
    "s = Sherlock()\n",
    "s"
   ]
  },
  {
   "cell_type": "markdown",
   "metadata": {},
   "source": [
    "You can search for a domain and request to purchase it. Purchasing a domain requires contact information as mandated by ICANN."
   ]
  },
  {
   "cell_type": "code",
   "execution_count": 3,
   "metadata": {},
   "outputs": [
    {
     "data": {
      "text/plain": [
       "{'id': '7f53df53-7090-4c3f-a41a-55bd345a8f95',\n",
       " 'created_at': '2025-01-10T08:22:09.172Z',\n",
       " 'available': [{'name': 'trakwiska.com',\n",
       "   'tld': 'com',\n",
       "   'tags': [],\n",
       "   'price': 1105,\n",
       "   'currency': 'USD',\n",
       "   'available': True},\n",
       "  {'name': 'trakwiska.net',\n",
       "   'tld': 'net',\n",
       "   'tags': [],\n",
       "   'price': 1185,\n",
       "   'currency': 'USD',\n",
       "   'available': True},\n",
       "  {'name': 'trakwiska.org',\n",
       "   'tld': 'org',\n",
       "   'tags': [],\n",
       "   'price': 939,\n",
       "   'currency': 'USD',\n",
       "   'available': True},\n",
       "  {'name': 'trakwiska.store',\n",
       "   'tld': 'store',\n",
       "   'tags': [],\n",
       "   'price': 488,\n",
       "   'currency': 'USD',\n",
       "   'available': True},\n",
       "  {'name': 'trakwiska.app',\n",
       "   'tld': 'app',\n",
       "   'tags': [],\n",
       "   'price': 1689,\n",
       "   'currency': 'USD',\n",
       "   'available': True},\n",
       "  {'name': 'trakwiska.dev',\n",
       "   'tld': 'dev',\n",
       "   'tags': [],\n",
       "   'price': 1489,\n",
       "   'currency': 'USD',\n",
       "   'available': True},\n",
       "  {'name': 'trakwiska.io',\n",
       "   'tld': 'io',\n",
       "   'tags': [],\n",
       "   'price': 3489,\n",
       "   'currency': 'USD',\n",
       "   'available': True},\n",
       "  {'name': 'trakwiska.xyz',\n",
       "   'tld': 'xyz',\n",
       "   'tags': [],\n",
       "   'price': 269,\n",
       "   'currency': 'USD',\n",
       "   'available': True},\n",
       "  {'name': 'trakwiska.tech',\n",
       "   'tld': 'tech',\n",
       "   'tags': [],\n",
       "   'price': 819,\n",
       "   'currency': 'USD',\n",
       "   'available': True},\n",
       "  {'name': 'trakwiska.info',\n",
       "   'tld': 'info',\n",
       "   'tags': [],\n",
       "   'price': 429,\n",
       "   'currency': 'USD',\n",
       "   'available': True},\n",
       "  {'name': 'trakwiska.me',\n",
       "   'tld': 'me',\n",
       "   'tags': [],\n",
       "   'price': 488,\n",
       "   'currency': 'USD',\n",
       "   'available': True},\n",
       "  {'name': 'trakwiska.ai',\n",
       "   'tld': 'ai',\n",
       "   'tags': [],\n",
       "   'price': 7489,\n",
       "   'currency': 'USD',\n",
       "   'available': True}],\n",
       " 'unavailable': []}"
      ]
     },
     "execution_count": 3,
     "metadata": {},
     "output_type": "execute_result"
    }
   ],
   "source": [
    "sr = s.search(\"trakwiska.com\")\n",
    "sr"
   ]
  },
  {
   "cell_type": "markdown",
   "metadata": {},
   "source": [
    "Contact information is needed for registering a new domain with the ICANN."
   ]
  },
  {
   "cell_type": "code",
   "execution_count": 4,
   "metadata": {},
   "outputs": [
    {
     "data": {
      "text/plain": [
       "{'message': 'Contact information updated successfully'}"
      ]
     },
     "execution_count": 4,
     "metadata": {},
     "output_type": "execute_result"
    }
   ],
   "source": [
    "c = Contact(**{\n",
    "    \"first_name\": \"Test\",\n",
    "    \"last_name\": \"User\",\n",
    "    \"email\": \"test@example.com\",\n",
    "    \"address\": \"123 Test St\",\n",
    "    \"city\": \"Test City\",\n",
    "    \"state\": \"CA\",\n",
    "    \"country\": \"US\",\n",
    "    \"postal_code\": \"12345\",\n",
    "})\n",
    "\n",
    "s.set_contact_information(\n",
    "    cfn=c.first_name,\n",
    "    cln=c.last_name,\n",
    "    cem=c.email,\n",
    "    cadd=c.address,\n",
    "    cct=c.city,\n",
    "    cst=c.state,\n",
    "    cpc=c.postal_code,\n",
    "    ccn=c.country\n",
    ")\n"
   ]
  },
  {
   "cell_type": "markdown",
   "metadata": {},
   "source": [
    "Finalizing a pruchase involves a payment. Sherlock Domains currently supports two payment methods: Credit Card (`credit_card`) and the Lightning Netowrk (`lightning`).\n",
    "By default the credit card method is used. The method will then return a checkout URL that can be used to complete the payment. In the case of lightning the response will contain a lightning invoice."
   ]
  },
  {
   "cell_type": "code",
   "execution_count": 5,
   "metadata": {},
   "outputs": [
    {
     "data": {
      "text/plain": [
       "{'payment_method': {'checkout_url': 'https://checkout.stripe.com/c/pay/cs_live_a1GGYxOdMQW3ML018fHyqpP0QdFPoK5yuy3KgredBSwPk93idtlY5vTqQS#fidkdWxOYHwnPyd1blppbHNgWjA0S3VzXDdBbTFNVlJzfDVRQVQ2dVdBTnJTSH1QMGs2dHRsanJMbkY0PTxKbUtRaWowT2NwMGM8RlVBbGRqSWo3UFYwcVdqR3F9N2BtM2ZTPXc1Z3dQXGc2NTVPYVVSQkM8bycpJ2N3amhWYHdzYHcnP3F3cGApJ2lkfGpwcVF8dWAnPyd2bGtiaWBabHFgaCcpJ2BrZGdpYFVpZGZgbWppYWB3dic%2FcXdwYHgl',\n",
       "  'lightning_invoice': None},\n",
       " 'expires_at': '2025-01-10T08:52:10.708Z'}"
      ]
     },
     "execution_count": 5,
     "metadata": {},
     "output_type": "execute_result"
    }
   ],
   "source": [
    "s.purchase_domain(sr['id'], \"trakwiska.com\")"
   ]
  },
  {
   "cell_type": "markdown",
   "metadata": {},
   "source": [
    "You can now use the checkout URL to complete the purchase and the domain will be registered to your agent.\n",
    "\n",
    "You can view the domains you own with:"
   ]
  },
  {
   "cell_type": "code",
   "execution_count": 6,
   "metadata": {},
   "outputs": [
    {
     "data": {
      "text/plain": [
       "[{'id': 'd9b2cc30-c15d-44b9-9d39-5d33da504484',\n",
       "  'domain_name': 'h402.org',\n",
       "  'created_at': '2024-12-28T18:58:49.899Z',\n",
       "  'expires_at': '2024-12-31T18:58:42Z',\n",
       "  'auto_renew': False,\n",
       "  'locked': True,\n",
       "  'private': True,\n",
       "  'nameservers': [],\n",
       "  'status': 'active'}]"
      ]
     },
     "execution_count": 6,
     "metadata": {},
     "output_type": "execute_result"
    }
   ],
   "source": [
    "s.domains()"
   ]
  },
  {
   "cell_type": "markdown",
   "metadata": {},
   "source": [
    "Below is a list of all the tools that the client offers to manage the domains and purchases."
   ]
  },
  {
   "cell_type": "code",
   "execution_count": 7,
   "metadata": {},
   "outputs": [
    {
     "data": {
      "text/plain": [
       "(#10) ['_me','_set_contact_information','_get_contact_information','_search','_purchase_domain','_domains','_dns_records','_create_dns_record','_update_dns_record','_delete_dns_record']"
      ]
     },
     "execution_count": 7,
     "metadata": {},
     "output_type": "execute_result"
    }
   ],
   "source": [
    "s.as_tools().map(lambda t: t.__name__)"
   ]
  },
  {
   "cell_type": "markdown",
   "metadata": {},
   "source": [
    "## AI agents"
   ]
  },
  {
   "cell_type": "markdown",
   "metadata": {},
   "source": [
    "We will show how to enable your AI assistant to handle payments using [Claudette](https://claudette.answer.ai), Answer.ai convenient wrapper for Claude. You'll need to export your `ANTHROPIC_API_KEY`."
   ]
  },
  {
   "cell_type": "code",
   "execution_count": 8,
   "metadata": {},
   "outputs": [],
   "source": [
    "from claudette import Chat, models"
   ]
  },
  {
   "cell_type": "code",
   "execution_count": 9,
   "metadata": {},
   "outputs": [
    {
     "data": {
      "text/plain": [
       "'claude-3-5-sonnet-20240620'"
      ]
     },
     "execution_count": 9,
     "metadata": {},
     "output_type": "execute_result"
    }
   ],
   "source": [
    "model = models[1]; model"
   ]
  },
  {
   "cell_type": "markdown",
   "metadata": {},
   "source": [
    "Create a Sherlock instance with a public & private key for the agent to use."
   ]
  },
  {
   "cell_type": "markdown",
   "metadata": {},
   "source": [
    "Sherlock supports returning all the tools with `s.as_tools()`.\n",
    "\n",
    "In order to request a purchase, we need to provide a contact information. You can either do so during the class initialization or manually. Then we just pass the extra tool.\n"
   ]
  },
  {
   "cell_type": "code",
   "execution_count": 10,
   "metadata": {},
   "outputs": [
    {
     "name": "stdout",
     "output_type": "stream",
     "text": [
      "Message(id='msg_01RGrzPSYkPGoof9qAgt3sVB', content=[TextBlock(text=\"Certainly! I'll search for the domain 'the-favourite-game.com' and if it's available, I'll proceed with the purchase request using the credit card payment method. Let's start with the search.\", type='text'), ToolUseBlock(id='toolu_01HY1brwGzrYiCEK2xWrFhBF', input={'q': 'the-favourite-game.com'}, name='_search', type='tool_use')], model='claude-3-5-sonnet-20240620', role='assistant', stop_reason='tool_use', stop_sequence=None, type='message', usage=In: 3003; Out: 104; Cache create: 0; Cache read: 0; Total: 3107)\n",
      "Message(id='msg_01VqNeG8C9eG4prq6G7ZcLun', content=[TextBlock(text=\"Great news! The domain 'the-favourite-game.com' is available for purchase. The search results show that it's priced at 1105 cents (USD), which is equivalent to $11.05.\\n\\nNow that we've confirmed its availability, let's proceed with the purchase request using the credit card payment method. However, before we can do that, we need to make sure that the contact information is set up for the domain registration. Let's check the current contact information:\", type='text'), ToolUseBlock(id='toolu_01NUMoFmu9MuSJSuf2kC77zE', input={}, name='_get_contact_information', type='tool_use')], model='claude-3-5-sonnet-20240620', role='assistant', stop_reason='tool_use', stop_sequence=None, type='message', usage=In: 3766; Out: 143; Cache create: 0; Cache read: 0; Total: 3909)\n",
      "Message(id='msg_01B54nf4ERFjzeK22SnMSZCo', content=[TextBlock(text='It looks like the contact information is already set up. Now we can proceed with the purchase request:', type='text'), ToolUseBlock(id='toolu_017hhGaifyqSfcWVViGrwpPu', input={'sid': '6a511874-ccb6-47c7-a05c-9636a55b1c1a', 'domain': 'the-favourite-game.com', 'payment_method': 'credit_card'}, name='_purchase_domain', type='tool_use')], model='claude-3-5-sonnet-20240620', role='assistant', stop_reason='tool_use', stop_sequence=None, type='message', usage=In: 3996; Out: 144; Cache create: 0; Cache read: 0; Total: 4140)\n",
      "Message(id='msg_01KDKMFFZ5ELDToH3wMbhjps', content=[TextBlock(text=\"Excellent! The purchase request for 'the-favourite-game.com' has been processed successfully. Here's what you need to know:\\n\\n1. The domain 'the-favourite-game.com' is available and has been reserved for your purchase.\\n2. The payment method selected is credit card, as requested.\\n3. To complete the purchase, you need to use the provided checkout URL:\\n   https://checkout.stripe.com/c/pay/cs_live_a1w7dHEJsQeXWtL48V27bJqUA9isb3HWCa43srMdsTJKDZg1ZDzqL6FsZc#fidkdWxOYHwnPyd1blppbHNgWjA0S3VzXDdBbTFNVlJzfDVRQVQ2dVdBTnJTSH1QMGs2dHRsanJMbkY0PTxKbUtRaWowT2NwMGM8RlVBbGRqSWo3UFYwcVdqR3F9N2BtM2ZTPXc1Z3dQXGc2NTVPYVVSQkM8bycpJ2N3amhWYHdzYHcnP3F3cGApJ2lkfGpwcVF8dWAnPyd2bGtiaWBabHFgaCcpJ2BrZGdpYFVpZGZgbWppYWB3dic%2FcXdwYHgl\\n\\n4. The payment reservation expires at: 2025-01-10T08:52:20.253Z (about 30 minutes from now)\\n\\nTo complete the purchase, please follow these steps:\\n1. Click on the checkout URL provided above.\\n2. You will be redirected to a secure Stripe payment page.\\n3. Enter your credit card details and complete the payment process.\\n4. Once the payment is successful, the domain will be registered to you.\\n\\nMake sure to complete the payment before the expiration time to secure your domain. If you have any issues with the payment process or need any further assistance, please let me know.\", type='text')], model='claude-3-5-sonnet-20240620', role='assistant', stop_reason='end_turn', stop_sequence=None, type='message', usage=In: 4495; Out: 532; Cache create: 0; Cache read: 0; Total: 5027)\n"
     ]
    },
    {
     "data": {
      "text/markdown": [
       "Excellent! The purchase request for 'the-favourite-game.com' has been processed successfully. Here's what you need to know:\n",
       "\n",
       "1. The domain 'the-favourite-game.com' is available and has been reserved for your purchase.\n",
       "2. The payment method selected is credit card, as requested.\n",
       "3. To complete the purchase, you need to use the provided checkout URL:\n",
       "   https://checkout.stripe.com/c/pay/cs_live_a1w7dHEJsQeXWtL48V27bJqUA9isb3HWCa43srMdsTJKDZg1ZDzqL6FsZc#fidkdWxOYHwnPyd1blppbHNgWjA0S3VzXDdBbTFNVlJzfDVRQVQ2dVdBTnJTSH1QMGs2dHRsanJMbkY0PTxKbUtRaWowT2NwMGM8RlVBbGRqSWo3UFYwcVdqR3F9N2BtM2ZTPXc1Z3dQXGc2NTVPYVVSQkM8bycpJ2N3amhWYHdzYHcnP3F3cGApJ2lkfGpwcVF8dWAnPyd2bGtiaWBabHFgaCcpJ2BrZGdpYFVpZGZgbWppYWB3dic%2FcXdwYHgl\n",
       "\n",
       "4. The payment reservation expires at: 2025-01-10T08:52:20.253Z (about 30 minutes from now)\n",
       "\n",
       "To complete the purchase, please follow these steps:\n",
       "1. Click on the checkout URL provided above.\n",
       "2. You will be redirected to a secure Stripe payment page.\n",
       "3. Enter your credit card details and complete the payment process.\n",
       "4. Once the payment is successful, the domain will be registered to you.\n",
       "\n",
       "Make sure to complete the payment before the expiration time to secure your domain. If you have any issues with the payment process or need any further assistance, please let me know.\n",
       "\n",
       "<details>\n",
       "\n",
       "- id: `msg_01KDKMFFZ5ELDToH3wMbhjps`\n",
       "- content: `[{'text': \"Excellent! The purchase request for 'the-favourite-game.com' has been processed successfully. Here's what you need to know:\\n\\n1. The domain 'the-favourite-game.com' is available and has been reserved for your purchase.\\n2. The payment method selected is credit card, as requested.\\n3. To complete the purchase, you need to use the provided checkout URL:\\n   https://checkout.stripe.com/c/pay/cs_live_a1w7dHEJsQeXWtL48V27bJqUA9isb3HWCa43srMdsTJKDZg1ZDzqL6FsZc#fidkdWxOYHwnPyd1blppbHNgWjA0S3VzXDdBbTFNVlJzfDVRQVQ2dVdBTnJTSH1QMGs2dHRsanJMbkY0PTxKbUtRaWowT2NwMGM8RlVBbGRqSWo3UFYwcVdqR3F9N2BtM2ZTPXc1Z3dQXGc2NTVPYVVSQkM8bycpJ2N3amhWYHdzYHcnP3F3cGApJ2lkfGpwcVF8dWAnPyd2bGtiaWBabHFgaCcpJ2BrZGdpYFVpZGZgbWppYWB3dic%2FcXdwYHgl\\n\\n4. The payment reservation expires at: 2025-01-10T08:52:20.253Z (about 30 minutes from now)\\n\\nTo complete the purchase, please follow these steps:\\n1. Click on the checkout URL provided above.\\n2. You will be redirected to a secure Stripe payment page.\\n3. Enter your credit card details and complete the payment process.\\n4. Once the payment is successful, the domain will be registered to you.\\n\\nMake sure to complete the payment before the expiration time to secure your domain. If you have any issues with the payment process or need any further assistance, please let me know.\", 'type': 'text'}]`\n",
       "- model: `claude-3-5-sonnet-20240620`\n",
       "- role: `assistant`\n",
       "- stop_reason: `end_turn`\n",
       "- stop_sequence: `None`\n",
       "- type: `message`\n",
       "- usage: `{'cache_creation_input_tokens': 0, 'cache_read_input_tokens': 0, 'input_tokens': 4495, 'output_tokens': 532}`\n",
       "\n",
       "</details>"
      ],
      "text/plain": [
       "Message(id='msg_01KDKMFFZ5ELDToH3wMbhjps', content=[TextBlock(text=\"Excellent! The purchase request for 'the-favourite-game.com' has been processed successfully. Here's what you need to know:\\n\\n1. The domain 'the-favourite-game.com' is available and has been reserved for your purchase.\\n2. The payment method selected is credit card, as requested.\\n3. To complete the purchase, you need to use the provided checkout URL:\\n   https://checkout.stripe.com/c/pay/cs_live_a1w7dHEJsQeXWtL48V27bJqUA9isb3HWCa43srMdsTJKDZg1ZDzqL6FsZc#fidkdWxOYHwnPyd1blppbHNgWjA0S3VzXDdBbTFNVlJzfDVRQVQ2dVdBTnJTSH1QMGs2dHRsanJMbkY0PTxKbUtRaWowT2NwMGM8RlVBbGRqSWo3UFYwcVdqR3F9N2BtM2ZTPXc1Z3dQXGc2NTVPYVVSQkM8bycpJ2N3amhWYHdzYHcnP3F3cGApJ2lkfGpwcVF8dWAnPyd2bGtiaWBabHFgaCcpJ2BrZGdpYFVpZGZgbWppYWB3dic%2FcXdwYHgl\\n\\n4. The payment reservation expires at: 2025-01-10T08:52:20.253Z (about 30 minutes from now)\\n\\nTo complete the purchase, please follow these steps:\\n1. Click on the checkout URL provided above.\\n2. You will be redirected to a secure Stripe payment page.\\n3. Enter your credit card details and complete the payment process.\\n4. Once the payment is successful, the domain will be registered to you.\\n\\nMake sure to complete the payment before the expiration time to secure your domain. If you have any issues with the payment process or need any further assistance, please let me know.\", type='text')], model='claude-3-5-sonnet-20240620', role='assistant', stop_reason='end_turn', stop_sequence=None, type='message', usage=In: 4495; Out: 532; Cache create: 0; Cache read: 0; Total: 5027)"
      ]
     },
     "execution_count": 10,
     "metadata": {},
     "output_type": "execute_result"
    }
   ],
   "source": [
    "sp = 'You are a helpful assistant that has access to a domain purchase API.'\n",
    "chat = Chat(model, sp=sp, tools=s.as_tools())\n",
    "\n",
    "pr = f\"Search if domain 'the-favourite-game.com' is available? If it is request a purchase and process the payment using credit card method.\"\n",
    "r = chat.toolloop(pr, trace_func=print)\n",
    "r"
   ]
  }
 ],
 "metadata": {
  "kernelspec": {
   "display_name": "python3",
   "language": "python",
   "name": "python3"
  },
  "language_info": {
   "codemirror_mode": {
    "name": "ipython",
    "version": 3
   },
   "file_extension": ".py",
   "mimetype": "text/x-python",
   "name": "python",
   "nbconvert_exporter": "python",
   "pygments_lexer": "ipython3",
   "version": "3.11.10"
  }
 },
 "nbformat": 4,
 "nbformat_minor": 4
}
