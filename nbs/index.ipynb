{
 "cells": [
  {
   "cell_type": "code",
   "execution_count": 1,
   "metadata": {},
   "outputs": [],
   "source": [
    "#| hide\n",
    "from sherlock.core import *"
   ]
  },
  {
   "cell_type": "markdown",
   "metadata": {},
   "source": [
    "# Sherlock Domains Python SDK\n",
    "\n",
    "> AI agent & SDK to buy and managed domains from [Sherlock Domains](https://www.sherlockdomains.com/)"
   ]
  },
  {
   "cell_type": "markdown",
   "metadata": {},
   "source": [
    "### Installation"
   ]
  },
  {
   "cell_type": "markdown",
   "metadata": {},
   "source": [
    "Install latest from the GitHub [repository][repo]:\n",
    "\n",
    "```sh\n",
    "$ pip install git+https://github.com/Fewsats/sherlock-python.git\n",
    "```\n",
    "\n",
    "```sh\n",
    "$ pip install sherlock-domains\n",
    "```\n",
    "\n",
    "\n",
    "[repo]: https://github.com/Fewsats/sherlock-python\n",
    "[pypi]: https://pypi.org/project/sherlock-domains/\n"
   ]
  },
  {
   "cell_type": "markdown",
   "metadata": {},
   "source": [
    "## How to use"
   ]
  },
  {
   "cell_type": "markdown",
   "metadata": {},
   "source": [
    "Create a Sherlock instance with a private key for the agent to use. If no key is provided, a new one will be generated and saved to the default config file."
   ]
  },
  {
   "cell_type": "code",
   "execution_count": 2,
   "metadata": {},
   "outputs": [
    {
     "data": {
      "text/plain": [
       "Sherlock(pubkey=90ba884688884277e49080712f386eebc88806efa8345ca937f75fe80950156d)"
      ]
     },
     "execution_count": 2,
     "metadata": {},
     "output_type": "execute_result"
    }
   ],
   "source": [
    "s = Sherlock()\n",
    "s"
   ]
  },
  {
   "cell_type": "markdown",
   "metadata": {},
   "source": [
    "You can search for a domain and request to purchase it. Purchasing a domain requires contact information as mandated by ICANN."
   ]
  },
  {
   "cell_type": "code",
   "execution_count": 3,
   "metadata": {},
   "outputs": [
    {
     "data": {
      "text/plain": [
       "{'id': '1cf56223-b390-4694-a35e-97fae6f9da20',\n",
       " 'created_at': '2025-01-12T10:18:34.485Z',\n",
       " 'available': [{'name': 'trakwiska.com',\n",
       "   'tld': 'com',\n",
       "   'tags': [],\n",
       "   'price': 1105,\n",
       "   'currency': 'USD',\n",
       "   'available': True}],\n",
       " 'unavailable': []}"
      ]
     },
     "execution_count": 3,
     "metadata": {},
     "output_type": "execute_result"
    }
   ],
   "source": [
    "sr = s.search(\"trakwiska.com\")\n",
    "# Don't print the whole lists\n",
    "sr['available'] = sr['available'][:1]\n",
    "sr['unavailable'] = sr['unavailable'][:1]\n",
    "sr"
   ]
  },
  {
   "cell_type": "markdown",
   "metadata": {},
   "source": [
    "Contact information is needed for registering a new domain with the ICANN."
   ]
  },
  {
   "cell_type": "code",
   "execution_count": 4,
   "metadata": {},
   "outputs": [
    {
     "data": {
      "text/plain": [
       "{'message': 'Contact information updated successfully'}"
      ]
     },
     "execution_count": 4,
     "metadata": {},
     "output_type": "execute_result"
    }
   ],
   "source": [
    "c = Contact(**{\n",
    "    \"first_name\": \"Test\",\n",
    "    \"last_name\": \"User\",\n",
    "    \"email\": \"test@example.com\",\n",
    "    \"address\": \"123 Test St\",\n",
    "    \"city\": \"Test City\",\n",
    "    \"state\": \"CA\",\n",
    "    \"country\": \"US\",\n",
    "    \"postal_code\": \"12345\",\n",
    "})\n",
    "\n",
    "s.set_contact_information(\n",
    "    cfn=c.first_name,\n",
    "    cln=c.last_name,\n",
    "    cem=c.email,\n",
    "    cadd=c.address,\n",
    "    cct=c.city,\n",
    "    cst=c.state,\n",
    "    cpc=c.postal_code,\n",
    "    ccn=c.country\n",
    ")\n"
   ]
  },
  {
   "cell_type": "markdown",
   "metadata": {},
   "source": [
    "Finalizing a pruchase involves a payment. Sherlock Domains currently supports two payment methods: Credit Card (`credit_card`) and the Lightning Netowrk (`lightning`).\n",
    "\n",
    "By default the credit card method is used. The method will then return a checkout URL that can be used to complete the payment. In the case of lightning the response will contain a lightning invoice."
   ]
  },
  {
   "cell_type": "code",
   "execution_count": 5,
   "metadata": {},
   "outputs": [
    {
     "data": {
      "text/plain": [
       "{'payment_method': {'checkout_url': 'https://checkout.stripe.com/c/pay/cs_live_a1ZgD6QnimFpPsmTi3HwY5SwliDbvvp6lLQe9petJgzcbVyQAY0woeeO7g#fidkdWxOYHwnPyd1blppbHNgWjA0S3VzXDdBbTFNVlJzfDVRQVQ2dVdBTnJTSH1QMGs2dHRsanJMbkY0PTxKbUtRaWowT2NwMGM8RlVBbGRqSWo3UFYwcVdqR3F9N2BtM2ZTPXc1Z3dQXGc2NTVPYVVSQkM8bycpJ2N3amhWYHdzYHcnP3F3cGApJ2lkfGpwcVF8dWAnPyd2bGtiaWBabHFgaCcpJ2BrZGdpYFVpZGZgbWppYWB3dic%2FcXdwYHgl',\n",
       "  'lightning_invoice': None},\n",
       " 'expires_at': '2025-01-12T10:48:35.611Z'}"
      ]
     },
     "execution_count": 5,
     "metadata": {},
     "output_type": "execute_result"
    }
   ],
   "source": [
    "s.purchase_domain(sr['id'], \"trakwiska.com\")"
   ]
  },
  {
   "cell_type": "markdown",
   "metadata": {},
   "source": [
    "You can now use the checkout URL to complete the purchase and the domain will be registered to your agent.\n",
    "\n",
    "You can view the domains you own with:"
   ]
  },
  {
   "cell_type": "code",
   "execution_count": 6,
   "metadata": {},
   "outputs": [
    {
     "data": {
      "text/plain": [
       "[{'id': 'd9b2cc30-c15d-44b9-9d39-5d33da504484',\n",
       "  'domain_name': 'h402.org',\n",
       "  'created_at': '2024-12-28T18:58:49.899Z',\n",
       "  'expires_at': '2024-12-31T18:58:42Z',\n",
       "  'auto_renew': False,\n",
       "  'locked': True,\n",
       "  'private': True,\n",
       "  'nameservers': [],\n",
       "  'status': 'active'}]"
      ]
     },
     "execution_count": 6,
     "metadata": {},
     "output_type": "execute_result"
    }
   ],
   "source": [
    "s.domains()"
   ]
  },
  {
   "cell_type": "markdown",
   "metadata": {},
   "source": [
    "Below is a list of all the tools that the client offers to manage the domains and purchases."
   ]
  },
  {
   "cell_type": "code",
   "execution_count": 7,
   "metadata": {},
   "outputs": [
    {
     "data": {
      "text/plain": [
       "(#10) ['_me','_set_contact_information','_get_contact_information','_search','_purchase_domain','_domains','_dns_records','_create_dns_record','_update_dns_record','_delete_dns_record']"
      ]
     },
     "execution_count": 7,
     "metadata": {},
     "output_type": "execute_result"
    }
   ],
   "source": [
    "s.as_tools().map(lambda t: t.__name__)"
   ]
  },
  {
   "cell_type": "markdown",
   "metadata": {},
   "source": [
    "## AI agents"
   ]
  },
  {
   "cell_type": "markdown",
   "metadata": {},
   "source": [
    "We will show how to enable your AI assistant to handle payments using [Claudette](https://claudette.answer.ai), Answer.ai convenient wrapper for Claude. You'll need to export your `ANTHROPIC_API_KEY`."
   ]
  },
  {
   "cell_type": "code",
   "execution_count": 8,
   "metadata": {},
   "outputs": [],
   "source": [
    "from claudette import Chat, models"
   ]
  },
  {
   "cell_type": "code",
   "execution_count": 9,
   "metadata": {},
   "outputs": [
    {
     "data": {
      "text/plain": [
       "'claude-3-5-sonnet-20240620'"
      ]
     },
     "execution_count": 9,
     "metadata": {},
     "output_type": "execute_result"
    }
   ],
   "source": [
    "model = models[1]; model"
   ]
  },
  {
   "cell_type": "markdown",
   "metadata": {},
   "source": [
    "Create a Sherlock instance with a public & private key for the agent to use."
   ]
  },
  {
   "cell_type": "markdown",
   "metadata": {},
   "source": [
    "Sherlock supports returning all the tools with `s.as_tools()`."
   ]
  },
  {
   "cell_type": "code",
   "execution_count": 10,
   "metadata": {},
   "outputs": [
    {
     "name": "stdout",
     "output_type": "stream",
     "text": [
      "Message(id='msg_01GDaASzv3hXmVmLDfGnWhuc', content=[TextBlock(text=\"Certainly! I'll search for the domain 'the-favourite-game.com' and if it's available, I'll proceed with the purchase request using the credit card payment method. Let's start with the search.\", type='text'), ToolUseBlock(id='toolu_01EFjFzK2qEawqkk4mAwWEBc', input={'q': 'the-favourite-game.com'}, name='_search', type='tool_use')], model='claude-3-5-sonnet-20240620', role='assistant', stop_reason='tool_use', stop_sequence=None, type='message', usage=In: 2409; Out: 104; Cache create: 0; Cache read: 0; Total: 2513)\n",
      "Message(id='msg_01L5CpUP3V68U7AeXzEsm13y', content=[TextBlock(text=\"Great news! The domain 'the-favourite-game.com' is available for purchase. The price is 1105 cents (USD), which is equivalent to $11.05.\\n\\nNow that we've confirmed its availability, let's proceed with the purchase request using the credit card payment method. However, before we can do that, we need to make sure that the contact information is set up. Let's check the current contact information:\", type='text'), ToolUseBlock(id='toolu_015xMutz4kRNa9XZ4NzQjM33', input={}, name='_get_contact_information', type='tool_use')], model='claude-3-5-sonnet-20240620', role='assistant', stop_reason='tool_use', stop_sequence=None, type='message', usage=In: 3171; Out: 132; Cache create: 0; Cache read: 0; Total: 3303)\n",
      "Message(id='msg_01KURGeMFh5g84jc2yEft2Vo', content=[TextBlock(text='It looks like the contact information is already set up. Now we can proceed with the purchase request:', type='text'), ToolUseBlock(id='toolu_01UrmsXutPMGjyxGsaJ7XMoQ', input={'sid': 'bc716dd3-bda0-4f76-883d-c7765e6630d8', 'domain': 'the-favourite-game.com', 'payment_method': 'credit_card'}, name='_purchase_domain', type='tool_use')], model='claude-3-5-sonnet-20240620', role='assistant', stop_reason='tool_use', stop_sequence=None, type='message', usage=In: 3390; Out: 142; Cache create: 0; Cache read: 0; Total: 3532)\n",
      "Message(id='msg_01CcGr8dCULHyD5kXtj4qD5W', content=[TextBlock(text=\"Great! The purchase request has been processed successfully. Here's a summary of what happened:\\n\\n1. We searched for 'the-favourite-game.com' and found it available for $11.05.\\n2. We confirmed that the contact information was already set up.\\n3. We submitted a purchase request for the domain using the credit card payment method.\\n\\nThe system has generated a checkout URL for you to complete the payment. To finalize the purchase, you'll need to visit this URL:\\n\\nhttps://checkout.stripe.com/c/pay/cs_live_a1MsmAFratyStXFA0DRrk2nrvWwrFNcKtjibmMhSg9cg9VDboK4OxXUVY0#fidkdWxOYHwnPyd1blppbHNgWjA0S3VzXDdBbTFNVlJzfDVRQVQ2dVdBTnJTSH1QMGs2dHRsanJMbkY0PTxKbUtRaWowT2NwMGM8RlVBbGRqSWo3UFYwcVdqR3F9N2BtM2ZTPXc1Z3dQXGc2NTVPYVVSQkM8bycpJ2N3amhWYHdzYHcnP3F3cGApJ2lkfGpwcVF8dWAnPyd2bGtiaWBabHFgaCcpJ2BrZGdpYFVpZGZgbWppYWB3dic%2FcXdwYHgl\\n\\nPlease note that this checkout URL will expire on 2025-01-12T10:48:44.614Z. Make sure to complete the payment before this time to secure your domain.\\n\\nIs there anything else you'd like me to help you with regarding this domain purchase or any other domain-related tasks?\", type='text')], model='claude-3-5-sonnet-20240620', role='assistant', stop_reason='end_turn', stop_sequence=None, type='message', usage=In: 3886; Out: 475; Cache create: 0; Cache read: 0; Total: 4361)\n"
     ]
    },
    {
     "data": {
      "text/markdown": [
       "Great! The purchase request has been processed successfully. Here's a summary of what happened:\n",
       "\n",
       "1. We searched for 'the-favourite-game.com' and found it available for &#36;11.05.\n",
       "2. We confirmed that the contact information was already set up.\n",
       "3. We submitted a purchase request for the domain using the credit card payment method.\n",
       "\n",
       "The system has generated a checkout URL for you to complete the payment. To finalize the purchase, you'll need to visit this URL:\n",
       "\n",
       "https://checkout.stripe.com/c/pay/cs_live_a1MsmAFratyStXFA0DRrk2nrvWwrFNcKtjibmMhSg9cg9VDboK4OxXUVY0#fidkdWxOYHwnPyd1blppbHNgWjA0S3VzXDdBbTFNVlJzfDVRQVQ2dVdBTnJTSH1QMGs2dHRsanJMbkY0PTxKbUtRaWowT2NwMGM8RlVBbGRqSWo3UFYwcVdqR3F9N2BtM2ZTPXc1Z3dQXGc2NTVPYVVSQkM8bycpJ2N3amhWYHdzYHcnP3F3cGApJ2lkfGpwcVF8dWAnPyd2bGtiaWBabHFgaCcpJ2BrZGdpYFVpZGZgbWppYWB3dic%2FcXdwYHgl\n",
       "\n",
       "Please note that this checkout URL will expire on 2025-01-12T10:48:44.614Z. Make sure to complete the payment before this time to secure your domain.\n",
       "\n",
       "Is there anything else you'd like me to help you with regarding this domain purchase or any other domain-related tasks?\n",
       "\n",
       "<details>\n",
       "\n",
       "- id: `msg_01CcGr8dCULHyD5kXtj4qD5W`\n",
       "- content: `[{'text': \"Great! The purchase request has been processed successfully. Here's a summary of what happened:\\n\\n1. We searched for 'the-favourite-game.com' and found it available for $11.05.\\n2. We confirmed that the contact information was already set up.\\n3. We submitted a purchase request for the domain using the credit card payment method.\\n\\nThe system has generated a checkout URL for you to complete the payment. To finalize the purchase, you'll need to visit this URL:\\n\\nhttps://checkout.stripe.com/c/pay/cs_live_a1MsmAFratyStXFA0DRrk2nrvWwrFNcKtjibmMhSg9cg9VDboK4OxXUVY0#fidkdWxOYHwnPyd1blppbHNgWjA0S3VzXDdBbTFNVlJzfDVRQVQ2dVdBTnJTSH1QMGs2dHRsanJMbkY0PTxKbUtRaWowT2NwMGM8RlVBbGRqSWo3UFYwcVdqR3F9N2BtM2ZTPXc1Z3dQXGc2NTVPYVVSQkM8bycpJ2N3amhWYHdzYHcnP3F3cGApJ2lkfGpwcVF8dWAnPyd2bGtiaWBabHFgaCcpJ2BrZGdpYFVpZGZgbWppYWB3dic%2FcXdwYHgl\\n\\nPlease note that this checkout URL will expire on 2025-01-12T10:48:44.614Z. Make sure to complete the payment before this time to secure your domain.\\n\\nIs there anything else you'd like me to help you with regarding this domain purchase or any other domain-related tasks?\", 'type': 'text'}]`\n",
       "- model: `claude-3-5-sonnet-20240620`\n",
       "- role: `assistant`\n",
       "- stop_reason: `end_turn`\n",
       "- stop_sequence: `None`\n",
       "- type: `message`\n",
       "- usage: `{'cache_creation_input_tokens': 0, 'cache_read_input_tokens': 0, 'input_tokens': 3886, 'output_tokens': 475}`\n",
       "\n",
       "</details>"
      ],
      "text/plain": [
       "Message(id='msg_01CcGr8dCULHyD5kXtj4qD5W', content=[TextBlock(text=\"Great! The purchase request has been processed successfully. Here's a summary of what happened:\\n\\n1. We searched for 'the-favourite-game.com' and found it available for $11.05.\\n2. We confirmed that the contact information was already set up.\\n3. We submitted a purchase request for the domain using the credit card payment method.\\n\\nThe system has generated a checkout URL for you to complete the payment. To finalize the purchase, you'll need to visit this URL:\\n\\nhttps://checkout.stripe.com/c/pay/cs_live_a1MsmAFratyStXFA0DRrk2nrvWwrFNcKtjibmMhSg9cg9VDboK4OxXUVY0#fidkdWxOYHwnPyd1blppbHNgWjA0S3VzXDdBbTFNVlJzfDVRQVQ2dVdBTnJTSH1QMGs2dHRsanJMbkY0PTxKbUtRaWowT2NwMGM8RlVBbGRqSWo3UFYwcVdqR3F9N2BtM2ZTPXc1Z3dQXGc2NTVPYVVSQkM8bycpJ2N3amhWYHdzYHcnP3F3cGApJ2lkfGpwcVF8dWAnPyd2bGtiaWBabHFgaCcpJ2BrZGdpYFVpZGZgbWppYWB3dic%2FcXdwYHgl\\n\\nPlease note that this checkout URL will expire on 2025-01-12T10:48:44.614Z. Make sure to complete the payment before this time to secure your domain.\\n\\nIs there anything else you'd like me to help you with regarding this domain purchase or any other domain-related tasks?\", type='text')], model='claude-3-5-sonnet-20240620', role='assistant', stop_reason='end_turn', stop_sequence=None, type='message', usage=In: 3886; Out: 475; Cache create: 0; Cache read: 0; Total: 4361)"
      ]
     },
     "execution_count": 10,
     "metadata": {},
     "output_type": "execute_result"
    }
   ],
   "source": [
    "sp = 'You are a helpful assistant that has access to a domain purchase API.'\n",
    "chat = Chat(model, sp=sp, tools=s.as_tools())\n",
    "\n",
    "pr = f\"Search if domain 'the-favourite-game.com' is available? If it is request a purchase and process the payment using credit card method.\"\n",
    "r = chat.toolloop(pr, trace_func=print)\n",
    "r"
   ]
  }
 ],
 "metadata": {
  "kernelspec": {
   "display_name": "python3",
   "language": "python",
   "name": "python3"
  }
 },
 "nbformat": 4,
 "nbformat_minor": 4
}
