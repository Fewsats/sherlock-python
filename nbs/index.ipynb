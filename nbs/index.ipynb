{
 "cells": [
  {
   "cell_type": "code",
   "execution_count": 1,
   "metadata": {},
   "outputs": [],
   "source": [
    "#| hide\n",
    "from sherlock.core import *\n",
    "from fastcore.utils import first"
   ]
  },
  {
   "cell_type": "markdown",
   "metadata": {},
   "source": [
    "# Sherlock Domains Python SDK\n",
    "\n",
    "> AI agent & SDK to buy and managed domains from [Sherlock Domains](https://www.sherlockdomains.com/)"
   ]
  },
  {
   "cell_type": "markdown",
   "metadata": {},
   "source": [
    "### Installation"
   ]
  },
  {
   "cell_type": "markdown",
   "metadata": {},
   "source": [
    "Install latest from the GitHub [repository][repo]:\n",
    "\n",
    "```sh\n",
    "$ pip install git+https://github.com/Fewsats/sherlock-python.git\n",
    "```\n",
    "\n",
    "```sh\n",
    "$ pip install sherlock-domains\n",
    "```\n",
    "\n",
    "\n",
    "[repo]: https://github.com/Fewsats/sherlock-python\n",
    "[pypi]: https://pypi.org/project/sherlock-domains/\n"
   ]
  },
  {
   "cell_type": "markdown",
   "metadata": {},
   "source": [
    "## How to use"
   ]
  },
  {
   "cell_type": "markdown",
   "metadata": {},
   "source": [
    "Create a Sherlock instance with a private key for the agent to use. If no key is provided, a new one will be generated and saved to the default config file."
   ]
  },
  {
   "cell_type": "code",
   "execution_count": 2,
   "metadata": {},
   "outputs": [
    {
     "data": {
      "text/plain": [
       "Sherlock(pubkey=90ba884688884277e49080712f386eebc88806efa8345ca937f75fe80950156d)"
      ]
     },
     "execution_count": 2,
     "metadata": {},
     "output_type": "execute_result"
    }
   ],
   "source": [
    "s = Sherlock()\n",
    "s"
   ]
  },
  {
   "cell_type": "markdown",
   "metadata": {},
   "source": [
    "You can search for a domain and request to purchase it. Purchasing a domain requires contact information as mandated by ICANN."
   ]
  },
  {
   "cell_type": "code",
   "execution_count": 3,
   "metadata": {},
   "outputs": [
    {
     "data": {
      "text/plain": [
       "{'id': '0125c86b-f067-41a9-936d-1dcc9542b190',\n",
       " 'created_at': '2025-01-05T04:18:27.042Z',\n",
       " 'available': [{'name': 'trakwiska.com',\n",
       "   'tld': 'com',\n",
       "   'tags': [],\n",
       "   'price': 1105,\n",
       "   'currency': 'USD',\n",
       "   'available': True}],\n",
       " 'unavailable': []}"
      ]
     },
     "execution_count": 3,
     "metadata": {},
     "output_type": "execute_result"
    }
   ],
   "source": [
    "sr = s.search(\"trakwiska.com\")\n",
    "sr"
   ]
  },
  {
   "cell_type": "markdown",
   "metadata": {},
   "source": [
    "Contact information is needed for registering a new domain with the ICANN."
   ]
  },
  {
   "cell_type": "code",
   "execution_count": 4,
   "metadata": {},
   "outputs": [],
   "source": [
    "c = Contact(**{\n",
    "    \"first_name\": \"Test\",\n",
    "    \"last_name\": \"User\",\n",
    "    \"email\": \"test@example.com\",\n",
    "    \"address\": \"123 Test St\",\n",
    "    \"city\": \"Test City\",\n",
    "    \"state\": \"CA\",\n",
    "    \"country\": \"US\",\n",
    "    \"postal_code\": \"12345\",\n",
    "})\n",
    "\n",
    "s = Sherlock(c=c)"
   ]
  },
  {
   "cell_type": "markdown",
   "metadata": {},
   "source": [
    "Finalizing a pruchase involves a payment. Sherlock Domains currently supports two payment methods: Credit Card (`credit_card`) and the Lightning Netowrk (`lightning`).\n",
    "By default the credit card method is used. The method will then return a checkout URL that can be used to complete the payment. In the case of lightning the response will contain a lightning invoice."
   ]
  },
  {
   "cell_type": "code",
   "execution_count": 5,
   "metadata": {},
   "outputs": [
    {
     "data": {
      "text/plain": [
       "{'payment_method': {'checkout_url': 'https://checkout.stripe.com/c/pay/cs_live_a1Dy5JtF7phqQg28y8Y6AerkkQuYuhTC7Y5WuxuDoeIZf4l5KrZxsfnOnO#fidkdWxOYHwnPyd1blppbHNgWjA0S3VzXDdBbTFNVlJzfDVRQVQ2dVdBTnJTSH1QMGs2dHRsanJMbkY0PTxKbUtRaWowT2NwMGM8RlVBbGRqSWo3UFYwcVdqR3F9N2BtM2ZTPXc1Z3dQXGc2NTVPYVVSQkM8bycpJ2N3amhWYHdzYHcnP3F3cGApJ2lkfGpwcVF8dWAnPyd2bGtiaWBabHFgaCcpJ2BrZGdpYFVpZGZgbWppYWB3dic%2FcXdwYHgl',\n",
       "  'lightning_invoice': None},\n",
       " 'expires_at': '2025-01-05T04:48:28.120Z'}"
      ]
     },
     "execution_count": 5,
     "metadata": {},
     "output_type": "execute_result"
    }
   ],
   "source": [
    "s.purchase_domain(sr['id'], \"trakwiska.com\")"
   ]
  },
  {
   "cell_type": "markdown",
   "metadata": {},
   "source": [
    "You can now use the checkout URL to complete the purchase and the domain will be registered to your agent.\n",
    "\n",
    "You can view the domains you own with:"
   ]
  },
  {
   "cell_type": "code",
   "execution_count": 6,
   "metadata": {},
   "outputs": [
    {
     "data": {
      "text/plain": [
       "[{'id': 'd9b2cc30-c15d-44b9-9d39-5d33da504484',\n",
       "  'domain_name': 'h402.org',\n",
       "  'created_at': '2024-12-28T18:58:49.899Z',\n",
       "  'expires_at': '2024-12-31T18:58:42Z',\n",
       "  'auto_renew': False,\n",
       "  'locked': True,\n",
       "  'private': True,\n",
       "  'nameservers': [],\n",
       "  'status': 'active'}]"
      ]
     },
     "execution_count": 6,
     "metadata": {},
     "output_type": "execute_result"
    }
   ],
   "source": [
    "s.domains()"
   ]
  },
  {
   "cell_type": "markdown",
   "metadata": {},
   "source": [
    "Below is a list of all the tools that the client offers to manage the domains and purchases."
   ]
  },
  {
   "cell_type": "code",
   "execution_count": 7,
   "metadata": {},
   "outputs": [
    {
     "data": {
      "text/plain": [
       "(#10) ['_me','_set_contact','_get_contact','_search','purchase_domain','_domains','_dns_records','_create_dns_record','_update_dns_record','_delete_dns_record']"
      ]
     },
     "execution_count": 7,
     "metadata": {},
     "output_type": "execute_result"
    }
   ],
   "source": [
    "s.as_tools().map(lambda t: t.__name__)"
   ]
  },
  {
   "cell_type": "markdown",
   "metadata": {},
   "source": [
    "## AI agents"
   ]
  },
  {
   "cell_type": "markdown",
   "metadata": {},
   "source": [
    "We will show how to enable your AI assistant to handle payments using [Claudette](https://claudette.answer.ai), Answer.ai convenient wrapper for Claude. You'll need to export your `ANTHROPIC_API_KEY`."
   ]
  },
  {
   "cell_type": "code",
   "execution_count": 11,
   "metadata": {},
   "outputs": [],
   "source": [
    "from claudette import Chat, models"
   ]
  },
  {
   "cell_type": "code",
   "execution_count": 12,
   "metadata": {},
   "outputs": [
    {
     "data": {
      "text/plain": [
       "'claude-3-5-sonnet-20240620'"
      ]
     },
     "execution_count": 12,
     "metadata": {},
     "output_type": "execute_result"
    }
   ],
   "source": [
    "model = models[1]; model"
   ]
  },
  {
   "cell_type": "markdown",
   "metadata": {},
   "source": [
    "Create a Sherlock instance with a public & private key for the agent to use."
   ]
  },
  {
   "cell_type": "markdown",
   "metadata": {},
   "source": [
    "Sherlock supports returning all the tools with `s.as_tools()`.\n",
    "\n",
    "In order to request a purchase, we need to provide a contact information. You can either do so during the class initialization or manually. Then we just pass the extra tool.\n"
   ]
  },
  {
   "cell_type": "code",
   "execution_count": 13,
   "metadata": {},
   "outputs": [
    {
     "name": "stdout",
     "output_type": "stream",
     "text": [
      "Message(id='msg_01Tvso582YUVNv9ihCKaYRn4', content=[TextBlock(text=\"Certainly! I'll search for the domain 'the-favourite-game.com' and if it's available, I'll proceed with the purchase request using the credit card payment method. Let's start with the search.\", type='text'), ToolUseBlock(id='toolu_01Bqi6ks9GRqVEuBCpgcfSGS', input={'q': 'the-favourite-game.com'}, name='_search', type='tool_use')], model='claude-3-5-sonnet-20240620', role='assistant', stop_reason='tool_use', stop_sequence=None, type='message', usage=In: 2961; Out: 104; Cache create: 0; Cache read: 0; Total: 3065)\n",
      "Message(id='msg_018d9XfZYzTgNXxJxYkWhmuZ', content=[TextBlock(text=\"Great news! The domain 'the-favourite-game.com' is available for purchase. The search results show that it's priced at $11.05 USD.\\n\\nNow, before we proceed with the purchase, we need to make sure that the contact information is set up correctly. Let's check the current contact information:\", type='text'), ToolUseBlock(id='toolu_01S2CjBV3my9YR9AaoMkC87A', input={}, name='_get_contact', type='tool_use')], model='claude-3-5-sonnet-20240620', role='assistant', stop_reason='tool_use', stop_sequence=None, type='message', usage=In: 3192; Out: 107; Cache create: 0; Cache read: 0; Total: 3299)\n",
      "Message(id='msg_01P1ofAoXRH3d63PZ88Khebb', content=[TextBlock(text=\"It looks like there's already contact information set up. If you want to use different contact information for this purchase, please let me know, and we can update it. Otherwise, we'll proceed with the purchase using the existing contact information.\\n\\nNow, let's request the purchase of the domain using the credit card payment method:\", type='text'), ToolUseBlock(id='toolu_01GsycUDxqPSjykG1Nzah924', input={'sid': 'e5bf5d1b-9c68-4837-8a8f-0265c67bb957', 'domain': 'the-favourite-game.com', 'payment_method': 'credit_card'}, name='purchase_domain', type='tool_use')], model='claude-3-5-sonnet-20240620', role='assistant', stop_reason='tool_use', stop_sequence=None, type='message', usage=In: 3364; Out: 190; Cache create: 0; Cache read: 0; Total: 3554)\n",
      "Message(id='msg_01TcZh8WaxN4RXwVoC9vnp9t', content=[TextBlock(text=\"Excellent! The purchase request for 'the-favourite-game.com' has been processed successfully. Here's what you need to know:\\n\\n1. Payment Method: Credit Card (as requested)\\n2. Checkout URL: https://checkout.stripe.com/c/pay/cs_live_a1KyXxSVx9E67tS1qa4swSyBtIBIXVTPXTCQZYMnAPdBzFgIIiuhwgXqqS#fidkdWxOYHwnPyd1blppbHNgWjA0S3VzXDdBbTFNVlJzfDVRQVQ2dVdBTnJTSH1QMGs2dHRsanJMbkY0PTxKbUtRaWowT2NwMGM8RlVBbGRqSWo3UFYwcVdqR3F9N2BtM2ZTPXc1Z3dQXGc2NTVPYVVSQkM8bycpJ2N3amhWYHdzYHcnP3F3cGApJ2lkfGpwcVF8dWAnPyd2bGtiaWBabHFgaCcpJ2BrZGdpYFVpZGZgbWppYWB3dic%2FcXdwYHgl\\n3. Expiration: The payment link expires at 2025-01-05T04:49:29.781Z\\n\\nTo complete the purchase, please follow these steps:\\n\\n1. Click on the checkout URL provided above.\\n2. You will be redirected to a secure Stripe payment page.\\n3. Enter your credit card details and complete the payment process.\\n4. Once the payment is successful, the domain 'the-favourite-game.com' will be registered to your account.\\n\\nMake sure to complete the payment before the expiration time to secure your domain. If you have any issues with the payment process or need any further assistance, please don't hesitate to ask. Good luck with your new domain!\", type='text')], model='claude-3-5-sonnet-20240620', role='assistant', stop_reason='end_turn', stop_sequence=None, type='message', usage=In: 3909; Out: 508; Cache create: 0; Cache read: 0; Total: 4417)\n"
     ]
    },
    {
     "data": {
      "text/markdown": [
       "Excellent! The purchase request for 'the-favourite-game.com' has been processed successfully. Here's what you need to know:\n",
       "\n",
       "1. Payment Method: Credit Card (as requested)\n",
       "2. Checkout URL: https://checkout.stripe.com/c/pay/cs_live_a1KyXxSVx9E67tS1qa4swSyBtIBIXVTPXTCQZYMnAPdBzFgIIiuhwgXqqS#fidkdWxOYHwnPyd1blppbHNgWjA0S3VzXDdBbTFNVlJzfDVRQVQ2dVdBTnJTSH1QMGs2dHRsanJMbkY0PTxKbUtRaWowT2NwMGM8RlVBbGRqSWo3UFYwcVdqR3F9N2BtM2ZTPXc1Z3dQXGc2NTVPYVVSQkM8bycpJ2N3amhWYHdzYHcnP3F3cGApJ2lkfGpwcVF8dWAnPyd2bGtiaWBabHFgaCcpJ2BrZGdpYFVpZGZgbWppYWB3dic%2FcXdwYHgl\n",
       "3. Expiration: The payment link expires at 2025-01-05T04:49:29.781Z\n",
       "\n",
       "To complete the purchase, please follow these steps:\n",
       "\n",
       "1. Click on the checkout URL provided above.\n",
       "2. You will be redirected to a secure Stripe payment page.\n",
       "3. Enter your credit card details and complete the payment process.\n",
       "4. Once the payment is successful, the domain 'the-favourite-game.com' will be registered to your account.\n",
       "\n",
       "Make sure to complete the payment before the expiration time to secure your domain. If you have any issues with the payment process or need any further assistance, please don't hesitate to ask. Good luck with your new domain!\n",
       "\n",
       "<details>\n",
       "\n",
       "- id: `msg_01TcZh8WaxN4RXwVoC9vnp9t`\n",
       "- content: `[{'text': \"Excellent! The purchase request for 'the-favourite-game.com' has been processed successfully. Here's what you need to know:\\n\\n1. Payment Method: Credit Card (as requested)\\n2. Checkout URL: https://checkout.stripe.com/c/pay/cs_live_a1KyXxSVx9E67tS1qa4swSyBtIBIXVTPXTCQZYMnAPdBzFgIIiuhwgXqqS#fidkdWxOYHwnPyd1blppbHNgWjA0S3VzXDdBbTFNVlJzfDVRQVQ2dVdBTnJTSH1QMGs2dHRsanJMbkY0PTxKbUtRaWowT2NwMGM8RlVBbGRqSWo3UFYwcVdqR3F9N2BtM2ZTPXc1Z3dQXGc2NTVPYVVSQkM8bycpJ2N3amhWYHdzYHcnP3F3cGApJ2lkfGpwcVF8dWAnPyd2bGtiaWBabHFgaCcpJ2BrZGdpYFVpZGZgbWppYWB3dic%2FcXdwYHgl\\n3. Expiration: The payment link expires at 2025-01-05T04:49:29.781Z\\n\\nTo complete the purchase, please follow these steps:\\n\\n1. Click on the checkout URL provided above.\\n2. You will be redirected to a secure Stripe payment page.\\n3. Enter your credit card details and complete the payment process.\\n4. Once the payment is successful, the domain 'the-favourite-game.com' will be registered to your account.\\n\\nMake sure to complete the payment before the expiration time to secure your domain. If you have any issues with the payment process or need any further assistance, please don't hesitate to ask. Good luck with your new domain!\", 'type': 'text'}]`\n",
       "- model: `claude-3-5-sonnet-20240620`\n",
       "- role: `assistant`\n",
       "- stop_reason: `end_turn`\n",
       "- stop_sequence: `None`\n",
       "- type: `message`\n",
       "- usage: `{'cache_creation_input_tokens': 0, 'cache_read_input_tokens': 0, 'input_tokens': 3909, 'output_tokens': 508}`\n",
       "\n",
       "</details>"
      ],
      "text/plain": [
       "Message(id='msg_01TcZh8WaxN4RXwVoC9vnp9t', content=[TextBlock(text=\"Excellent! The purchase request for 'the-favourite-game.com' has been processed successfully. Here's what you need to know:\\n\\n1. Payment Method: Credit Card (as requested)\\n2. Checkout URL: https://checkout.stripe.com/c/pay/cs_live_a1KyXxSVx9E67tS1qa4swSyBtIBIXVTPXTCQZYMnAPdBzFgIIiuhwgXqqS#fidkdWxOYHwnPyd1blppbHNgWjA0S3VzXDdBbTFNVlJzfDVRQVQ2dVdBTnJTSH1QMGs2dHRsanJMbkY0PTxKbUtRaWowT2NwMGM8RlVBbGRqSWo3UFYwcVdqR3F9N2BtM2ZTPXc1Z3dQXGc2NTVPYVVSQkM8bycpJ2N3amhWYHdzYHcnP3F3cGApJ2lkfGpwcVF8dWAnPyd2bGtiaWBabHFgaCcpJ2BrZGdpYFVpZGZgbWppYWB3dic%2FcXdwYHgl\\n3. Expiration: The payment link expires at 2025-01-05T04:49:29.781Z\\n\\nTo complete the purchase, please follow these steps:\\n\\n1. Click on the checkout URL provided above.\\n2. You will be redirected to a secure Stripe payment page.\\n3. Enter your credit card details and complete the payment process.\\n4. Once the payment is successful, the domain 'the-favourite-game.com' will be registered to your account.\\n\\nMake sure to complete the payment before the expiration time to secure your domain. If you have any issues with the payment process or need any further assistance, please don't hesitate to ask. Good luck with your new domain!\", type='text')], model='claude-3-5-sonnet-20240620', role='assistant', stop_reason='end_turn', stop_sequence=None, type='message', usage=In: 3909; Out: 508; Cache create: 0; Cache read: 0; Total: 4417)"
      ]
     },
     "execution_count": 13,
     "metadata": {},
     "output_type": "execute_result"
    }
   ],
   "source": [
    "sp = 'You are a helpful assistant that has access to a domain purchase API.'\n",
    "chat = Chat(model, sp=sp, tools=s.as_tools())\n",
    "\n",
    "pr = f\"Search if domain 'the-favourite-game.com' is available? If it is request a purchase and process the payment using credit card method.\"\n",
    "r = chat.toolloop(pr, trace_func=print)\n",
    "r"
   ]
  }
 ],
 "metadata": {
  "kernelspec": {
   "display_name": "python3",
   "language": "python",
   "name": "python3"
  },
  "language_info": {
   "codemirror_mode": {
    "name": "ipython",
    "version": 3
   },
   "file_extension": ".py",
   "mimetype": "text/x-python",
   "name": "python",
   "nbconvert_exporter": "python",
   "pygments_lexer": "ipython3",
   "version": "3.11.10"
  }
 },
 "nbformat": 4,
 "nbformat_minor": 4
}
