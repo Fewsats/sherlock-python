{
 "cells": [
  {
   "cell_type": "code",
   "execution_count": null,
   "metadata": {},
   "outputs": [],
   "source": [
    "#| hide\n",
    "from sherlock.core import *\n",
    "from fastcore.utils import first"
   ]
  },
  {
   "cell_type": "markdown",
   "metadata": {},
   "source": [
    "# Sherlock Domains Python SDK\n",
    "\n",
    "> AI agent & SDK to buy and managed domains from [Sherlock Domains](https://www.sherlockdomains.com/)"
   ]
  },
  {
   "cell_type": "markdown",
   "metadata": {},
   "source": [
    "### Installation"
   ]
  },
  {
   "cell_type": "markdown",
   "metadata": {},
   "source": [
    "Install latest from the GitHub [repository][repo]:\n",
    "\n",
    "```sh\n",
    "$ pip install git+https://github.com/Fewsats/sherlock-python.git\n",
    "```\n",
    "\n",
    "```sh\n",
    "$ pip install sherlock-domains\n",
    "```\n",
    "\n",
    "\n",
    "[repo]: https://github.com/Fewsats/sherlock-python\n",
    "[pypi]: https://pypi.org/project/sherlock-domains/\n"
   ]
  },
  {
   "cell_type": "markdown",
   "metadata": {},
   "source": [
    "## How to use"
   ]
  },
  {
   "cell_type": "markdown",
   "metadata": {},
   "source": [
    "Create a Sherlock instance with a private key for the agent to use. If no key is provided, a new one will be generated and saved to the default config file."
   ]
  },
  {
   "cell_type": "code",
   "execution_count": null,
   "metadata": {},
   "outputs": [
    {
     "data": {
      "text/plain": [
       "Sherlock(pubkey=90ba884688884277e49080712f386eebc88806efa8345ca937f75fe80950156d)"
      ]
     },
     "execution_count": null,
     "metadata": {},
     "output_type": "execute_result"
    }
   ],
   "source": [
    "s = Sherlock()\n",
    "s"
   ]
  },
  {
   "cell_type": "markdown",
   "metadata": {},
   "source": [
    "You can search for a domain and request to purchase it. Purchasing a domain requires contact information as mandated by ICANN."
   ]
  },
  {
   "cell_type": "code",
   "execution_count": null,
   "metadata": {},
   "outputs": [
    {
     "data": {
      "text/plain": [
       "{'id': '5ef79dc9-20fa-469c-9fda-938330eb3056',\n",
       " 'created_at': '2024-12-31T11:40:34.941Z',\n",
       " 'available': [{'name': 'trakwiska.com',\n",
       "   'tld': 'com',\n",
       "   'tags': [],\n",
       "   'price': 1105,\n",
       "   'currency': 'USD',\n",
       "   'available': True}],\n",
       " 'unavailable': []}"
      ]
     },
     "execution_count": null,
     "metadata": {},
     "output_type": "execute_result"
    }
   ],
   "source": [
    "sr = s.search(\"trakwiska.com\")\n",
    "sr"
   ]
  },
  {
   "cell_type": "code",
   "execution_count": null,
   "metadata": {},
   "outputs": [],
   "source": [
    "c = Contact(**{\n",
    "    \"first_name\": \"Test\",\n",
    "    \"last_name\": \"User\",\n",
    "    \"email\": \"test@example.com\",\n",
    "    \"address\": \"123 Test St\",\n",
    "    \"city\": \"Test City\",\n",
    "    \"state\": \"CA\",\n",
    "    \"country\": \"US\",\n",
    "    \"postal_code\": \"12345\",\n",
    "})\n",
    "\n",
    "s = Sherlock(c=c)\n",
    "pr = s.request_purchase('trakwiska.com', sr['id'])"
   ]
  },
  {
   "cell_type": "markdown",
   "metadata": {},
   "source": [
    "The request purchase will return different payment offers and payment methods. To buy this domain usign a credit card we do: "
   ]
  },
  {
   "cell_type": "code",
   "execution_count": null,
   "metadata": {},
   "outputs": [
    {
     "data": {
      "text/plain": [
       "{'payment_method': {'checkout_url': 'https://checkout.stripe.com/c/pay/cs_live_a116wkFWokfHw73UFQI65GoWEAt4JTEja6OG3v5GOcb1zZljF9a0BABkm0#fidkdWxOYHwnPyd1blppbHNgWjA0S3VzXDdBbTFNVlJzfDVRQVQ2dVdBTnJTSH1QMGs2dHRsanJMbkY0PTxKbUtRaWowT2NwMGM8RlVBbGRqSWo3UFYwcVdqR3F9N2BtM2ZTPXc1Z3dQXGc2NTVPYVVSQkM8bycpJ2N3amhWYHdzYHcnP3F3cGApJ2lkfGpwcVF8dWAnPyd2bGtiaWBabHFgaCcpJ2BrZGdpYFVpZGZgbWppYWB3dic%2FcXdwYHgl',\n",
       "  'lightning_invoice': None},\n",
       " 'expires_at': '2024-12-31T12:10:36.498Z'}"
      ]
     },
     "execution_count": null,
     "metadata": {},
     "output_type": "execute_result"
    }
   ],
   "source": [
    "s.process_payment(pr['payment_request_url'], first(pr['offers'])['id'], 'credit_card', pr['payment_context_token'])"
   ]
  },
  {
   "cell_type": "markdown",
   "metadata": {},
   "source": [
    "You can now use the checkout URL to complete the purchase and the domain will be registered to your agent.\n",
    "\n",
    "You can view your domains with:"
   ]
  },
  {
   "cell_type": "code",
   "execution_count": null,
   "metadata": {},
   "outputs": [
    {
     "data": {
      "text/plain": [
       "[{'id': 'd9b2cc30-c15d-44b9-9d39-5d33da504484',\n",
       "  'domain_name': 'h402.org',\n",
       "  'created_at': '2024-12-28T18:58:49.899Z',\n",
       "  'expires_at': '2024-12-31T18:58:42Z',\n",
       "  'auto_renew': False,\n",
       "  'locked': True,\n",
       "  'private': True,\n",
       "  'nameservers': [],\n",
       "  'status': 'active'}]"
      ]
     },
     "execution_count": null,
     "metadata": {},
     "output_type": "execute_result"
    }
   ],
   "source": [
    "s.domains()"
   ]
  },
  {
   "cell_type": "markdown",
   "metadata": {},
   "source": [
    "Below is a list of all the tools that the client offers to manage the domains and purchases."
   ]
  },
  {
   "cell_type": "code",
   "execution_count": null,
   "metadata": {},
   "outputs": [
    {
     "data": {
      "text/plain": [
       "(#9) ['me','search','request_purchase','process_payment','domains','dns_records','create_dns','update_dns','delete_dns']"
      ]
     },
     "execution_count": null,
     "metadata": {},
     "output_type": "execute_result"
    }
   ],
   "source": [
    "s.as_tools().map(lambda t: t.__name__)"
   ]
  },
  {
   "cell_type": "markdown",
   "metadata": {},
   "source": [
    "## AI agents"
   ]
  },
  {
   "cell_type": "markdown",
   "metadata": {},
   "source": [
    "We will show how to enable your AI assistant to handle payments using [Claudette](https://claudette.answer.ai), Answer.ai convenient wrapper for Claude. You'll need to export your `ANTHROPIC_API_KEY`."
   ]
  },
  {
   "cell_type": "code",
   "execution_count": null,
   "metadata": {},
   "outputs": [],
   "source": [
    "from claudette import Chat, models\n"
   ]
  },
  {
   "cell_type": "code",
   "execution_count": null,
   "metadata": {},
   "outputs": [],
   "source": [
    "import os\n",
    "# os.environ['ANTHROPIC_LOG'] = 'debug'"
   ]
  },
  {
   "cell_type": "code",
   "execution_count": null,
   "metadata": {},
   "outputs": [
    {
     "data": {
      "text/plain": [
       "'claude-3-5-sonnet-20240620'"
      ]
     },
     "execution_count": null,
     "metadata": {},
     "output_type": "execute_result"
    }
   ],
   "source": [
    "model = models[1]; model"
   ]
  },
  {
   "cell_type": "markdown",
   "metadata": {},
   "source": [
    "Create a Sherlock instance with a public & private key for the agent to use."
   ]
  },
  {
   "cell_type": "markdown",
   "metadata": {},
   "source": [
    "Sherlock supports returning all the tools with `s.as_tools()`.\n",
    "\n",
    "In order to request a purchase, we need to provide a contact information. You can either do so during the class initialization or manually. Then we just pass the extra tool.\n"
   ]
  },
  {
   "cell_type": "code",
   "execution_count": null,
   "metadata": {},
   "outputs": [
    {
     "name": "stdout",
     "output_type": "stream",
     "text": [
      "Message(id='msg_01A1MGtJxV4E4vdNUR79scBq', content=[TextBlock(text=\"Certainly! I'll search for the domain 'the-favourite-game.com', check its availability, and if it's available, I'll request a purchase and process the payment using a credit card. Let's go through this step by step.\\n\\nStep 1: Search for the domain\\n\\nFirst, let's search for the domain to check its availability and price.\", type='text'), ToolUseBlock(id='toolu_01TqRV9hZ7nr3iaDCX72L556', input={'q': 'the-favourite-game.com'}, name='search', type='tool_use')], model='claude-3-5-sonnet-20240620', role='assistant', stop_reason='tool_use', stop_sequence=None, type='message', usage=In: 1195; Out: 135; Cache create: 0; Cache read: 0; Total: 1330)\n",
      "Message(id='msg_01SHwRjnuVJW25WskvhRZzj9', content=[TextBlock(text=\"Great news! The domain 'the-favourite-game.com' is available. The price is 1105 cents USD, which is $11.05.\\n\\nStep 2: Request a purchase\\n\\nNow that we know the domain is available, let's request a purchase.\", type='text'), ToolUseBlock(id='toolu_01YRD4xvombASP2xtGP7S2Qo', input={'domain': 'the-favourite-game.com', 'sid': '54737319-0bc9-4d0d-b629-f9cfb4ada981'}, name='request_purchase', type='tool_use')], model='claude-3-5-sonnet-20240620', role='assistant', stop_reason='tool_use', stop_sequence=None, type='message', usage=In: 1453; Out: 159; Cache create: 0; Cache read: 0; Total: 1612)\n",
      "Message(id='msg_015qB626K8uMbgZyZ3ADQPHN', content=[TextBlock(text=\"Excellent! The purchase request has been successfully submitted. We now have the necessary information to process the payment.\\n\\nStep 3: Process the payment\\n\\nYou mentioned you want to use a credit card for the payment, so let's process the payment using the credit card method.\", type='text'), ToolUseBlock(id='toolu_016VotccQ4U3bib34efug2KR', input={'oid': 'cda151c0-6abb-4597-89de-9e2f6bc4ae51', 'pct': '90ba884688884277e49080712f386eebc88806efa8345ca937f75fe80950156d', 'pm': 'credit_card', 'prurl': 'https://api.sherlockdomains.com/api/v0/payments/l402/payment_request'}, name='process_payment', type='tool_use')], model='claude-3-5-sonnet-20240620', role='assistant', stop_reason='tool_use', stop_sequence=None, type='message', usage=In: 1824; Out: 244; Cache create: 0; Cache read: 0; Total: 2068)\n",
      "Message(id='msg_01DtYtGX2DgVfaircJN57BKS', content=[TextBlock(text=\"Great! The payment process has been initiated successfully. Here's a summary of what has happened:\\n\\n1. We searched for the domain 'the-favourite-game.com' and found it available for $11.05.\\n2. We successfully requested a purchase for the domain.\\n3. We initiated the payment process using the credit card method.\\n\\nTo complete the purchase, you need to follow the checkout URL provided in the payment method response. Here's the URL:\\n\\nhttps://checkout.stripe.com/c/pay/cs_live_a1KhVscSz9UKqqMKwCNAEbXGIwpMVYmz1ok35m6n7diGOEwnGM7f92Rkfb#fidkdWxOYHwnPyd1blppbHNgWjA0S3VzXDdBbTFNVlJzfDVRQVQ2dVdBTnJTSH1QMGs2dHRsanJMbkY0PTxKbUtRaWowT2NwMGM8RlVBbGRqSWo3UFYwcVdqR3F9N2BtM2ZTPXc1Z3dQXGc2NTVPYVVSQkM8bycpJ2N3amhWYHdzYHcnP3F3cGApJ2lkfGpwcVF8dWAnPyd2bGtiaWBabHFgaCcpJ2BrZGdpYFVpZGZgbWppYWB3dic%2FcXdwYHgl\\n\\nPlease click on this link or copy and paste it into your browser to complete the payment process. You'll need to enter your credit card details and confirm the purchase.\\n\\nThe payment link will expire on December 31, 2024, at 12:10:47 UTC, so make sure to complete the payment before then.\\n\\nOnce you've completed the payment, the domain 'the-favourite-game.com' should be registered to your account. Is there anything else you'd like me to help you with regarding this domain purchase or any other domain-related questions?\", type='text')], model='claude-3-5-sonnet-20240620', role='assistant', stop_reason='end_turn', stop_sequence=None, type='message', usage=In: 2424; Out: 524; Cache create: 0; Cache read: 0; Total: 2948)\n"
     ]
    },
    {
     "data": {
      "text/markdown": [
       "Great! The payment process has been initiated successfully. Here's a summary of what has happened:\n",
       "\n",
       "1. We searched for the domain 'the-favourite-game.com' and found it available for &#36;11.05.\n",
       "2. We successfully requested a purchase for the domain.\n",
       "3. We initiated the payment process using the credit card method.\n",
       "\n",
       "To complete the purchase, you need to follow the checkout URL provided in the payment method response. Here's the URL:\n",
       "\n",
       "https://checkout.stripe.com/c/pay/cs_live_a1KhVscSz9UKqqMKwCNAEbXGIwpMVYmz1ok35m6n7diGOEwnGM7f92Rkfb#fidkdWxOYHwnPyd1blppbHNgWjA0S3VzXDdBbTFNVlJzfDVRQVQ2dVdBTnJTSH1QMGs2dHRsanJMbkY0PTxKbUtRaWowT2NwMGM8RlVBbGRqSWo3UFYwcVdqR3F9N2BtM2ZTPXc1Z3dQXGc2NTVPYVVSQkM8bycpJ2N3amhWYHdzYHcnP3F3cGApJ2lkfGpwcVF8dWAnPyd2bGtiaWBabHFgaCcpJ2BrZGdpYFVpZGZgbWppYWB3dic%2FcXdwYHgl\n",
       "\n",
       "Please click on this link or copy and paste it into your browser to complete the payment process. You'll need to enter your credit card details and confirm the purchase.\n",
       "\n",
       "The payment link will expire on December 31, 2024, at 12:10:47 UTC, so make sure to complete the payment before then.\n",
       "\n",
       "Once you've completed the payment, the domain 'the-favourite-game.com' should be registered to your account. Is there anything else you'd like me to help you with regarding this domain purchase or any other domain-related questions?\n",
       "\n",
       "<details>\n",
       "\n",
       "- id: `msg_01DtYtGX2DgVfaircJN57BKS`\n",
       "- content: `[{'text': \"Great! The payment process has been initiated successfully. Here's a summary of what has happened:\\n\\n1. We searched for the domain 'the-favourite-game.com' and found it available for $11.05.\\n2. We successfully requested a purchase for the domain.\\n3. We initiated the payment process using the credit card method.\\n\\nTo complete the purchase, you need to follow the checkout URL provided in the payment method response. Here's the URL:\\n\\nhttps://checkout.stripe.com/c/pay/cs_live_a1KhVscSz9UKqqMKwCNAEbXGIwpMVYmz1ok35m6n7diGOEwnGM7f92Rkfb#fidkdWxOYHwnPyd1blppbHNgWjA0S3VzXDdBbTFNVlJzfDVRQVQ2dVdBTnJTSH1QMGs2dHRsanJMbkY0PTxKbUtRaWowT2NwMGM8RlVBbGRqSWo3UFYwcVdqR3F9N2BtM2ZTPXc1Z3dQXGc2NTVPYVVSQkM8bycpJ2N3amhWYHdzYHcnP3F3cGApJ2lkfGpwcVF8dWAnPyd2bGtiaWBabHFgaCcpJ2BrZGdpYFVpZGZgbWppYWB3dic%2FcXdwYHgl\\n\\nPlease click on this link or copy and paste it into your browser to complete the payment process. You'll need to enter your credit card details and confirm the purchase.\\n\\nThe payment link will expire on December 31, 2024, at 12:10:47 UTC, so make sure to complete the payment before then.\\n\\nOnce you've completed the payment, the domain 'the-favourite-game.com' should be registered to your account. Is there anything else you'd like me to help you with regarding this domain purchase or any other domain-related questions?\", 'type': 'text'}]`\n",
       "- model: `claude-3-5-sonnet-20240620`\n",
       "- role: `assistant`\n",
       "- stop_reason: `end_turn`\n",
       "- stop_sequence: `None`\n",
       "- type: `message`\n",
       "- usage: `{'cache_creation_input_tokens': 0, 'cache_read_input_tokens': 0, 'input_tokens': 2424, 'output_tokens': 524}`\n",
       "\n",
       "</details>"
      ],
      "text/plain": [
       "Message(id='msg_01DtYtGX2DgVfaircJN57BKS', content=[TextBlock(text=\"Great! The payment process has been initiated successfully. Here's a summary of what has happened:\\n\\n1. We searched for the domain 'the-favourite-game.com' and found it available for $11.05.\\n2. We successfully requested a purchase for the domain.\\n3. We initiated the payment process using the credit card method.\\n\\nTo complete the purchase, you need to follow the checkout URL provided in the payment method response. Here's the URL:\\n\\nhttps://checkout.stripe.com/c/pay/cs_live_a1KhVscSz9UKqqMKwCNAEbXGIwpMVYmz1ok35m6n7diGOEwnGM7f92Rkfb#fidkdWxOYHwnPyd1blppbHNgWjA0S3VzXDdBbTFNVlJzfDVRQVQ2dVdBTnJTSH1QMGs2dHRsanJMbkY0PTxKbUtRaWowT2NwMGM8RlVBbGRqSWo3UFYwcVdqR3F9N2BtM2ZTPXc1Z3dQXGc2NTVPYVVSQkM8bycpJ2N3amhWYHdzYHcnP3F3cGApJ2lkfGpwcVF8dWAnPyd2bGtiaWBabHFgaCcpJ2BrZGdpYFVpZGZgbWppYWB3dic%2FcXdwYHgl\\n\\nPlease click on this link or copy and paste it into your browser to complete the payment process. You'll need to enter your credit card details and confirm the purchase.\\n\\nThe payment link will expire on December 31, 2024, at 12:10:47 UTC, so make sure to complete the payment before then.\\n\\nOnce you've completed the payment, the domain 'the-favourite-game.com' should be registered to your account. Is there anything else you'd like me to help you with regarding this domain purchase or any other domain-related questions?\", type='text')], model='claude-3-5-sonnet-20240620', role='assistant', stop_reason='end_turn', stop_sequence=None, type='message', usage=In: 2424; Out: 524; Cache create: 0; Cache read: 0; Total: 2948)"
      ]
     },
     "execution_count": null,
     "metadata": {},
     "output_type": "execute_result"
    }
   ],
   "source": [
    "sp = 'You are a helpful assistant that has access to a domain purchase API.'\n",
    "chat = Chat(model, sp=sp, tools=s.as_tools())\n",
    "\n",
    "pr = f\"Search if domain 'the-favourite-game.com' is available? If it is request a purchase and process the payment using credit card method.\"\n",
    "r = chat.toolloop(pr, trace_func=print)\n",
    "r"
   ]
  }
 ],
 "metadata": {
  "kernelspec": {
   "display_name": "python3",
   "language": "python",
   "name": "python3"
  }
 },
 "nbformat": 4,
 "nbformat_minor": 4
}
