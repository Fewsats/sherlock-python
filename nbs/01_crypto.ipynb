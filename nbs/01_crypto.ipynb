{
 "cells": [
  {
   "cell_type": "markdown",
   "metadata": {},
   "source": [
    "# crypto\n",
    "\n",
    "> Some cryptograhpy functions for Sherlock."
   ]
  },
  {
   "cell_type": "code",
   "execution_count": null,
   "metadata": {},
   "outputs": [],
   "source": [
    "#| default_exp crypto"
   ]
  },
  {
   "cell_type": "code",
   "execution_count": null,
   "metadata": {},
   "outputs": [],
   "source": [
    "#| hide\n",
    "from nbdev.showdoc import *"
   ]
  },
  {
   "cell_type": "code",
   "execution_count": null,
   "metadata": {},
   "outputs": [
    {
     "data": {
      "text/plain": [
       "'4d19fb7f5cdd76b9b7a461c2b2d73cc891cf33c2d768d3f2bdc1805528643ade'"
      ]
     },
     "execution_count": null,
     "metadata": {},
     "output_type": "execute_result"
    }
   ],
   "source": [
    "#| export\n",
    "from cryptography.hazmat.primitives.asymmetric import ed25519\n",
    "import secrets; secrets.token_hex(32)"
   ]
  },
  {
   "cell_type": "markdown",
   "metadata": {},
   "source": [
    "Generating a private & public key pair from scratch."
   ]
  },
  {
   "cell_type": "code",
   "execution_count": null,
   "metadata": {},
   "outputs": [
    {
     "data": {
      "text/plain": [
       "<cryptography.hazmat.bindings._rust.openssl.ed25519.Ed25519PrivateKey>"
      ]
     },
     "execution_count": null,
     "metadata": {},
     "output_type": "execute_result"
    }
   ],
   "source": [
    "pk = ed25519.Ed25519PrivateKey.generate()\n",
    "pk"
   ]
  },
  {
   "cell_type": "code",
   "execution_count": null,
   "metadata": {},
   "outputs": [
    {
     "data": {
      "text/plain": [
       "(<cryptography.hazmat.bindings._rust.openssl.ed25519.Ed25519PrivateKey>,\n",
       " '25e06ab46f49f96c3a45b3a10a86d53362199cd32d7d7696c4ef08e678f2086e')"
      ]
     },
     "execution_count": null,
     "metadata": {},
     "output_type": "execute_result"
    }
   ],
   "source": [
    "pub = pk.public_key().public_bytes_raw().hex()\n",
    "pk, pub"
   ]
  },
  {
   "cell_type": "code",
   "execution_count": null,
   "metadata": {},
   "outputs": [],
   "source": [
    "#| export \n",
    "def generate_keys():\n",
    "    pk = ed25519.Ed25519PrivateKey.generate()\n",
    "    pub = pk.public_key().public_bytes_raw().hex()\n",
    "    return pk, pub\n"
   ]
  },
  {
   "cell_type": "code",
   "execution_count": null,
   "metadata": {},
   "outputs": [
    {
     "data": {
      "text/plain": [
       "(<cryptography.hazmat.bindings._rust.openssl.ed25519.Ed25519PrivateKey>,\n",
       " '3abc35f7819d7edec58658199c0116a1eabdd6b0f91a096298b8dcbb0ab581f5')"
      ]
     },
     "execution_count": null,
     "metadata": {},
     "output_type": "execute_result"
    }
   ],
   "source": [
    "generate_keys()"
   ]
  },
  {
   "cell_type": "markdown",
   "metadata": {},
   "source": [
    "Generating a `pk` instance and a public key from a private key in hex.\n"
   ]
  },
  {
   "cell_type": "code",
   "execution_count": null,
   "metadata": {},
   "outputs": [
    {
     "data": {
      "text/plain": [
       "'25e06ab46f49f96c3a45b3a10a86d53362199cd32d7d7696c4ef08e678f2086e'"
      ]
     },
     "execution_count": null,
     "metadata": {},
     "output_type": "execute_result"
    }
   ],
   "source": [
    "priv = pk.private_bytes_raw().hex()\n",
    "pk = ed25519.Ed25519PrivateKey.from_private_bytes(bytes.fromhex(priv))\n",
    "pk.public_key().public_bytes_raw().hex()"
   ]
  },
  {
   "cell_type": "code",
   "execution_count": null,
   "metadata": {},
   "outputs": [],
   "source": [
    "#| export\n",
    "\n",
    "def from_pk_hex(priv):\n",
    "    pk = ed25519.Ed25519PrivateKey.from_private_bytes(bytes.fromhex(priv))\n",
    "    return pk, pk.public_key().public_bytes_raw().hex()\n",
    "\n",
    "def priv_key_hex(pk):\n",
    "    return pk.private_bytes_raw().hex()"
   ]
  },
  {
   "cell_type": "code",
   "execution_count": null,
   "metadata": {},
   "outputs": [
    {
     "data": {
      "text/plain": [
       "(<cryptography.hazmat.bindings._rust.openssl.ed25519.Ed25519PrivateKey>,\n",
       " '25e06ab46f49f96c3a45b3a10a86d53362199cd32d7d7696c4ef08e678f2086e')"
      ]
     },
     "execution_count": null,
     "metadata": {},
     "output_type": "execute_result"
    }
   ],
   "source": [
    "from_pk_hex(priv)"
   ]
  },
  {
   "cell_type": "markdown",
   "metadata": {},
   "source": []
  },
  {
   "cell_type": "code",
   "execution_count": null,
   "metadata": {},
   "outputs": [],
   "source": [
    "#| hide\n",
    "import nbdev; nbdev.nbdev_export()"
   ]
  }
 ],
 "metadata": {
  "kernelspec": {
   "display_name": "python3",
   "language": "python",
   "name": "python3"
  }
 },
 "nbformat": 4,
 "nbformat_minor": 4
}
