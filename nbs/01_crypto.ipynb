{
 "cells": [
  {
   "cell_type": "markdown",
   "metadata": {},
   "source": [
    "# crypto\n",
    "\n",
    "> Some cryptograhpy functions for Sherlock."
   ]
  },
  {
   "cell_type": "code",
   "execution_count": null,
   "metadata": {},
   "outputs": [],
   "source": [
    "#| default_exp crypto"
   ]
  },
  {
   "cell_type": "code",
   "execution_count": null,
   "metadata": {},
   "outputs": [],
   "source": [
    "#| hide\n",
    "from nbdev.showdoc import *"
   ]
  },
  {
   "cell_type": "code",
   "execution_count": null,
   "metadata": {},
   "outputs": [
    {
     "data": {
      "text/plain": [
       "'b7162bd9d894870656dd2bcca7e90059648bad774d5445db4bc39b3ab0f23d75'"
      ]
     },
     "execution_count": null,
     "metadata": {},
     "output_type": "execute_result"
    }
   ],
   "source": [
    "#| export\n",
    "from cryptography.hazmat.primitives.asymmetric import ed25519\n",
    "import secrets; secrets.token_hex(32)"
   ]
  },
  {
   "cell_type": "markdown",
   "metadata": {},
   "source": [
    "Generating a private & public key pair from scratch."
   ]
  },
  {
   "cell_type": "code",
   "execution_count": null,
   "metadata": {},
   "outputs": [
    {
     "data": {
      "text/plain": [
       "<cryptography.hazmat.bindings._rust.openssl.ed25519.Ed25519PrivateKey>"
      ]
     },
     "execution_count": null,
     "metadata": {},
     "output_type": "execute_result"
    }
   ],
   "source": [
    "pk = ed25519.Ed25519PrivateKey.generate()\n",
    "pk"
   ]
  },
  {
   "cell_type": "code",
   "execution_count": null,
   "metadata": {},
   "outputs": [
    {
     "data": {
      "text/plain": [
       "(<cryptography.hazmat.bindings._rust.openssl.ed25519.Ed25519PrivateKey>,\n",
       " 'c5194960409453d494e44e9fb62e2acf18306e5c35c1f7588488dccba6b2e93d')"
      ]
     },
     "execution_count": null,
     "metadata": {},
     "output_type": "execute_result"
    }
   ],
   "source": [
    "pub = pk.public_key().public_bytes_raw().hex()\n",
    "pk, pub"
   ]
  },
  {
   "cell_type": "code",
   "execution_count": null,
   "metadata": {},
   "outputs": [],
   "source": [
    "#| export \n",
    "def generate_keys():\n",
    "    pk = ed25519.Ed25519PrivateKey.generate()\n",
    "    pub = pk.public_key().public_bytes_raw().hex()\n",
    "    return pk, pub\n"
   ]
  },
  {
   "cell_type": "code",
   "execution_count": null,
   "metadata": {},
   "outputs": [
    {
     "data": {
      "text/plain": [
       "(<cryptography.hazmat.bindings._rust.openssl.ed25519.Ed25519PrivateKey>,\n",
       " 'a7495f5ac22c02d8fc83162ed043275b1777770f4214890ee5d264142e8e8f2e')"
      ]
     },
     "execution_count": null,
     "metadata": {},
     "output_type": "execute_result"
    }
   ],
   "source": [
    "generate_keys()"
   ]
  },
  {
   "cell_type": "markdown",
   "metadata": {},
   "source": [
    "Generating a `pk` instance and a public key from a private key in hex.\n"
   ]
  },
  {
   "cell_type": "code",
   "execution_count": null,
   "metadata": {},
   "outputs": [
    {
     "data": {
      "text/plain": [
       "'c5194960409453d494e44e9fb62e2acf18306e5c35c1f7588488dccba6b2e93d'"
      ]
     },
     "execution_count": null,
     "metadata": {},
     "output_type": "execute_result"
    }
   ],
   "source": [
    "priv = pk.private_bytes_raw().hex()\n",
    "pk = ed25519.Ed25519PrivateKey.from_private_bytes(bytes.fromhex(priv))\n",
    "pk.public_key().public_bytes_raw().hex()"
   ]
  },
  {
   "cell_type": "code",
   "execution_count": null,
   "metadata": {},
   "outputs": [],
   "source": [
    "#| export\n",
    "\n",
    "def from_pk_hex(priv):\n",
    "    pk = ed25519.Ed25519PrivateKey.from_private_bytes(bytes.fromhex(priv))\n",
    "    return pk, pk.public_key().public_bytes_raw().hex()\n",
    "\n",
    "def priv_key_hex(pk):\n",
    "    return pk.private_bytes_raw().hex()"
   ]
  },
  {
   "cell_type": "code",
   "execution_count": null,
   "metadata": {},
   "outputs": [
    {
     "data": {
      "text/plain": [
       "(<cryptography.hazmat.bindings._rust.openssl.ed25519.Ed25519PrivateKey>,\n",
       " 'c5194960409453d494e44e9fb62e2acf18306e5c35c1f7588488dccba6b2e93d')"
      ]
     },
     "execution_count": null,
     "metadata": {},
     "output_type": "execute_result"
    }
   ],
   "source": [
    "from_pk_hex(priv)"
   ]
  },
  {
   "cell_type": "markdown",
   "metadata": {},
   "source": []
  },
  {
   "cell_type": "code",
   "execution_count": null,
   "metadata": {},
   "outputs": [],
   "source": [
    "#| hide\n",
    "import nbdev; nbdev.nbdev_export()"
   ]
  }
 ],
 "metadata": {
  "kernelspec": {
   "display_name": "python3",
   "language": "python",
   "name": "python3"
  }
 },
 "nbformat": 4,
 "nbformat_minor": 4
}
